{
 "cells": [
  {
   "cell_type": "markdown",
   "metadata": {},
   "source": [
    "# Studying Indonesian Contraceptive Data \n",
    "### by Alexandra Novales, Richa Bhattacharya, and Sophia Sousa"
   ]
  },
  {
   "cell_type": "markdown",
   "metadata": {},
   "source": [
    "-------------------------------------------------------------------------------------------------"
   ]
  },
  {
   "cell_type": "markdown",
   "metadata": {},
   "source": [
    "### Importing Packages\n",
    "We begin by importing all the relevant packages we would like to use in order to conduct our Exploratory Data Analysis"
   ]
  },
  {
   "cell_type": "code",
   "execution_count": 1,
   "metadata": {},
   "outputs": [],
   "source": [
    "import numpy as np\n",
    "import pandas as pd\n",
    "import matplotlib.pyplot as plt\n",
    "%matplotlib inline\n",
    "import seaborn as sns\n",
    "sns.set(style = \"whitegrid\", \n",
    "        color_codes = True,\n",
    "        font_scale = 1.5)\n",
    "\n",
    "#SkLearn Imports\n",
    "import sklearn.linear_model as lm\n",
    "from sklearn.linear_model import LinearRegression\n",
    "from sklearn.linear_model import LogisticRegression\n",
    "from sklearn.model_selection import train_test_split\n",
    "from sklearn.pipeline import Pipeline\n",
    "from sklearn.linear_model import Lasso\n",
    "from sklearn.linear_model import Ridge\n",
    "from sklearn.preprocessing import StandardScaler\n",
    "from sklearn.model_selection import cross_val_score\n",
    "from sklearn.metrics import accuracy_score\n",
    "from sklearn.preprocessing import OneHotEncoder\n",
    "from sklearn import tree\n",
    "from sklearn import ensemble\n",
    "from sklearn.metrics import confusion_matrix\n",
    "\n",
    "\n",
    "#Other Imports\n",
    "import math\n",
    "import csv\n"
   ]
  },
  {
   "cell_type": "markdown",
   "metadata": {},
   "source": [
    "### Loading the Data\n",
    "Here we are loading the CSV file containing the UCI Data of the 1987 Indonesia Prevalence Survey"
   ]
  },
  {
   "cell_type": "code",
   "execution_count": 2,
   "metadata": {},
   "outputs": [
    {
     "data": {
      "text/html": [
       "<div>\n",
       "<style scoped>\n",
       "    .dataframe tbody tr th:only-of-type {\n",
       "        vertical-align: middle;\n",
       "    }\n",
       "\n",
       "    .dataframe tbody tr th {\n",
       "        vertical-align: top;\n",
       "    }\n",
       "\n",
       "    .dataframe thead th {\n",
       "        text-align: right;\n",
       "    }\n",
       "</style>\n",
       "<table border=\"1\" class=\"dataframe\">\n",
       "  <thead>\n",
       "    <tr style=\"text-align: right;\">\n",
       "      <th></th>\n",
       "      <th>wife_age</th>\n",
       "      <th>wife_education</th>\n",
       "      <th>husband_education</th>\n",
       "      <th>num_child</th>\n",
       "      <th>wife_religion</th>\n",
       "      <th>wife_work</th>\n",
       "      <th>husband_occupation</th>\n",
       "      <th>standard_living</th>\n",
       "      <th>media_exposure</th>\n",
       "      <th>contraceptive</th>\n",
       "    </tr>\n",
       "  </thead>\n",
       "  <tbody>\n",
       "    <tr>\n",
       "      <th>0</th>\n",
       "      <td>24</td>\n",
       "      <td>2</td>\n",
       "      <td>3</td>\n",
       "      <td>3</td>\n",
       "      <td>1</td>\n",
       "      <td>1</td>\n",
       "      <td>2</td>\n",
       "      <td>3</td>\n",
       "      <td>0</td>\n",
       "      <td>1</td>\n",
       "    </tr>\n",
       "    <tr>\n",
       "      <th>1</th>\n",
       "      <td>45</td>\n",
       "      <td>1</td>\n",
       "      <td>3</td>\n",
       "      <td>10</td>\n",
       "      <td>1</td>\n",
       "      <td>1</td>\n",
       "      <td>3</td>\n",
       "      <td>4</td>\n",
       "      <td>0</td>\n",
       "      <td>1</td>\n",
       "    </tr>\n",
       "    <tr>\n",
       "      <th>2</th>\n",
       "      <td>43</td>\n",
       "      <td>2</td>\n",
       "      <td>3</td>\n",
       "      <td>7</td>\n",
       "      <td>1</td>\n",
       "      <td>1</td>\n",
       "      <td>3</td>\n",
       "      <td>4</td>\n",
       "      <td>0</td>\n",
       "      <td>1</td>\n",
       "    </tr>\n",
       "    <tr>\n",
       "      <th>3</th>\n",
       "      <td>42</td>\n",
       "      <td>3</td>\n",
       "      <td>2</td>\n",
       "      <td>9</td>\n",
       "      <td>1</td>\n",
       "      <td>1</td>\n",
       "      <td>3</td>\n",
       "      <td>3</td>\n",
       "      <td>0</td>\n",
       "      <td>1</td>\n",
       "    </tr>\n",
       "    <tr>\n",
       "      <th>4</th>\n",
       "      <td>36</td>\n",
       "      <td>3</td>\n",
       "      <td>3</td>\n",
       "      <td>8</td>\n",
       "      <td>1</td>\n",
       "      <td>1</td>\n",
       "      <td>3</td>\n",
       "      <td>2</td>\n",
       "      <td>0</td>\n",
       "      <td>1</td>\n",
       "    </tr>\n",
       "  </tbody>\n",
       "</table>\n",
       "</div>"
      ],
      "text/plain": [
       "   wife_age  wife_education  husband_education  num_child  wife_religion  \\\n",
       "0        24               2                  3          3              1   \n",
       "1        45               1                  3         10              1   \n",
       "2        43               2                  3          7              1   \n",
       "3        42               3                  2          9              1   \n",
       "4        36               3                  3          8              1   \n",
       "\n",
       "   wife_work  husband_occupation  standard_living  media_exposure  \\\n",
       "0          1                   2                3               0   \n",
       "1          1                   3                4               0   \n",
       "2          1                   3                4               0   \n",
       "3          1                   3                3               0   \n",
       "4          1                   3                2               0   \n",
       "\n",
       "   contraceptive  \n",
       "0              1  \n",
       "1              1  \n",
       "2              1  \n",
       "3              1  \n",
       "4              1  "
      ]
     },
     "execution_count": 2,
     "metadata": {},
     "output_type": "execute_result"
    }
   ],
   "source": [
    "data = pd.read_csv('contraceptive_for_students.csv')\n",
    "data.head(5)"
   ]
  },
  {
   "cell_type": "code",
   "execution_count": 3,
   "metadata": {},
   "outputs": [
    {
     "data": {
      "text/plain": [
       "(1473, 10)"
      ]
     },
     "execution_count": 3,
     "metadata": {},
     "output_type": "execute_result"
    }
   ],
   "source": [
    "#We notice that the size of our data set is 1473 by 10\n",
    "data.shape"
   ]
  },
  {
   "cell_type": "markdown",
   "metadata": {},
   "source": [
    "#### Before we begin our data cleaning, we must identify what features we are given in our data set and what they represent:"
   ]
  },
  {
   "cell_type": "markdown",
   "metadata": {},
   "source": [
    "**Wife_Age (Quantitative Discrete):** The age at which the wife was survyed  \n",
    "\n",
    "    Range: [16-49]\n",
    "    \n",
    "**Wife_Education (Qualitative Ordinal):** Wife's overall level of education\n",
    "\n",
    "    1: low, 2, 3, 4: high\n",
    "    \n",
    "**Husband_Education (Qualitative Ordinal):** Husband's overall level of education\n",
    "\n",
    "    1: low, 2, 3, 4: high\n",
    "    \n",
    "**Num_Child (Quantitative Discrete):** Number of children a woman has while being surveyed\n",
    "\n",
    "    Range: [0,16]\n",
    "    \n",
    "**Wife_Religion (Binary):** Whether or not a woman is Muslim\n",
    "\n",
    "    0: non-Islamic religion\n",
    "    1: Islam\n",
    "    \n",
    "**Wife_Work (Binary):** Whether or not a woman works\n",
    "\n",
    "    0: Not Working\n",
    "    1: Working\n",
    "    \n",
    "**Husband_Occupation (Qualitative Ordinal):** Hubsband's occupation type\n",
    "\n",
    "    *** Source : Piazza ***\n",
    "    1: Professional,Technical,Clerical\n",
    "    2: Sales, Services\n",
    "    3: Manual\n",
    "    4: Agriculture\n",
    "    \n",
    "**Standard_Living (Qualitative Ordinal):** The standard of living\n",
    "\n",
    "    1: low, 2, 3, 4: high\n",
    "    \n",
    "**Media_Exposure (Binary):** The type of media exposure\n",
    "\n",
    "    0: Good\n",
    "    1: Not Good\n",
    "    \n",
    "**Contraceptive (Qualitative Ordinal):** The kind of contraceptive used\n",
    "\n",
    "    1: no contraceptive\n",
    "    2: short-term\n",
    "    3: long-term\n",
    "    \n"
   ]
  },
  {
   "cell_type": "markdown",
   "metadata": {},
   "source": [
    "# Data Cleaning: Nulls and Incorrect Types"
   ]
  },
  {
   "cell_type": "code",
   "execution_count": 4,
   "metadata": {},
   "outputs": [
    {
     "data": {
      "text/plain": [
       "wife_age              0\n",
       "wife_education        0\n",
       "husband_education     0\n",
       "num_child             0\n",
       "wife_religion         0\n",
       "wife_work             0\n",
       "husband_occupation    0\n",
       "standard_living       0\n",
       "media_exposure        0\n",
       "contraceptive         0\n",
       "dtype: int64"
      ]
     },
     "execution_count": 4,
     "metadata": {},
     "output_type": "execute_result"
    }
   ],
   "source": [
    "#Checking if there are any NA values\n",
    "data.isnull().sum()"
   ]
  },
  {
   "cell_type": "markdown",
   "metadata": {},
   "source": [
    "As we can see above, our data does not consist of any null values, so we do not have to clean them out of our data set."
   ]
  },
  {
   "cell_type": "code",
   "execution_count": 5,
   "metadata": {},
   "outputs": [
    {
     "data": {
      "text/plain": [
       "wife_age              int64\n",
       "wife_education        int64\n",
       "husband_education     int64\n",
       "num_child             int64\n",
       "wife_religion         int64\n",
       "wife_work             int64\n",
       "husband_occupation    int64\n",
       "standard_living       int64\n",
       "media_exposure        int64\n",
       "contraceptive         int64\n",
       "dtype: object"
      ]
     },
     "execution_count": 5,
     "metadata": {},
     "output_type": "execute_result"
    }
   ],
   "source": [
    "#Checking if all the types are the same \n",
    "data.dtypes"
   ]
  },
  {
   "cell_type": "markdown",
   "metadata": {},
   "source": [
    "As we can see above, all the data in our columns are of the same type and of the types we would like them to be"
   ]
  },
  {
   "cell_type": "code",
   "execution_count": 6,
   "metadata": {},
   "outputs": [
    {
     "data": {
      "text/plain": [
       "[0, 0, 0, 0, 0, 0, 0, 0]"
      ]
     },
     "execution_count": 6,
     "metadata": {},
     "output_type": "execute_result"
    }
   ],
   "source": [
    "#Make sure all the binary data are just 0,1 \n",
    "#Make sure all the categorical data are just 1,2,3 (and 4)\n",
    "ar = [\n",
    "    sum(data[\"wife_education\"].isin([1,2,3,4]) == False),\n",
    "    sum(data[\"husband_education\"].isin([1,2,3,4]) == False),\n",
    "    sum(data[\"wife_religion\"].isin([1,0]) == False),\n",
    "    sum(data[\"wife_work\"].isin([1,0]) == False),\n",
    "    sum(data[\"husband_occupation\"].isin([1,2,3,4]) == False),\n",
    "    sum(data[\"standard_living\"].isin([1,2,3,4]) == False),\n",
    "    sum(data[\"media_exposure\"].isin([1,0]) == False),\n",
    "    sum(data[\"contraceptive\"].isin([1,2,3]) == False)]\n",
    "ar"
   ]
  },
  {
   "cell_type": "markdown",
   "metadata": {},
   "source": [
    "In the cell above, we made sure that no data was in the form of an invalid value. This shows us that we do not have to remove any data points due to being invalid. Our next step from here is to explore different relationships in the data and potentially add/remove certain features."
   ]
  },
  {
   "cell_type": "markdown",
   "metadata": {},
   "source": [
    "# Data Cleaning: Visualizations"
   ]
  },
  {
   "cell_type": "code",
   "execution_count": 7,
   "metadata": {},
   "outputs": [
    {
     "data": {
      "text/plain": [
       "Text(0.5, 1.0, 'Age Distribution of Women Interviewed')"
      ]
     },
     "execution_count": 7,
     "metadata": {},
     "output_type": "execute_result"
    },
    {
     "data": {
      "image/png": "[encoded data removed]",
      "text/plain": [
       "<Figure size 432x288 with 1 Axes>"
      ]
     },
     "metadata": {
      "needs_background": "light"
     },
     "output_type": "display_data"
    }
   ],
   "source": [
    "#Age Distribution of Women Surveyed\n",
    "sns.distplot(data['wife_age'])\n",
    "plt.xlabel('Wife Age')\n",
    "plt.ylabel('Proportion')\n",
    "plt.title('Age Distribution of Women Interviewed')"
   ]
  },
  {
   "cell_type": "markdown",
   "metadata": {},
   "source": [
    "The distribution above shows that most of the women interviewed were in their mid 20s to early 40s."
   ]
  },
  {
   "cell_type": "code",
   "execution_count": 8,
   "metadata": {},
   "outputs": [
    {
     "data": {
      "text/plain": [
       "Text(0.5, 0, 'Number of Children')"
      ]
     },
     "execution_count": 8,
     "metadata": {},
     "output_type": "execute_result"
    },
    {
     "data": {
      "image/png": "[encoded data removed]",
      "text/plain": [
       "<Figure size 432x288 with 1 Axes>"
      ]
     },
     "metadata": {
      "needs_background": "light"
     },
     "output_type": "display_data"
    }
   ],
   "source": [
    "#Distribution of Number of Children\n",
    "plt.hist(data[\"num_child\"], bins = 15)\n",
    "plt.title(\"Overview of Number of Children\")\n",
    "plt.xlabel(\"Number of Children\")"
   ]
  },
  {
   "cell_type": "markdown",
   "metadata": {},
   "source": [
    "Here we notice that the number of children is between 0 and 16 and a majority of the women survyed have less than 5 children."
   ]
  },
  {
   "cell_type": "code",
   "execution_count": 9,
   "metadata": {},
   "outputs": [
    {
     "data": {
      "text/plain": [
       "Text(0, 0.5, 'Number of Children')"
      ]
     },
     "execution_count": 9,
     "metadata": {},
     "output_type": "execute_result"
    },
    {
     "data": {
      "image/png": "[encoded data removed]",
      "text/plain": [
       "<Figure size 432x288 with 1 Axes>"
      ]
     },
     "metadata": {
      "needs_background": "light"
     },
     "output_type": "display_data"
    }
   ],
   "source": [
    "#Standard of Living vs. the Type of Contraceptive\n",
    "sns.boxplot(x = data['standard_living'], y = data['num_child'], hue = data['contraceptive'])\n",
    "plt.legend(bbox_to_anchor=(1.05, 1),fontsize=8, loc='upper left', borderaxespad=0.)\n",
    "plt.title(\"Number of Children vs. Standard of Living by Contraceptive\")\n",
    "plt.xlabel(\"Standard of Living\")\n",
    "plt.ylabel(\"Number of Children\")"
   ]
  },
  {
   "cell_type": "markdown",
   "metadata": {},
   "source": [
    "As we can see, the median number of children is relatively the same. However, it can be observed that the range of the number of children is significantly smaller for a level 4 standard of living than that of others. There are also a lot of high outliers for the same level of standard of living. It's a bit difficult to make accurate predictions with these features unless we focus on levels 1 and 2 of standard of living-- but that's not representative of Indonesia's population."
   ]
  },
  {
   "cell_type": "code",
   "execution_count": 10,
   "metadata": {},
   "outputs": [
    {
     "data": {
      "text/plain": [
       "<matplotlib.legend.Legend at 0x7f1120056910>"
      ]
     },
     "execution_count": 10,
     "metadata": {},
     "output_type": "execute_result"
    },
    {
     "data": {
      "image/png": "[encoded data removed]",
      "text/plain": [
       "<Figure size 432x288 with 1 Axes>"
      ]
     },
     "metadata": {
      "needs_background": "light"
     },
     "output_type": "display_data"
    }
   ],
   "source": [
    "#Number of Children vs. Wife Age\n",
    "data1 = data[['wife_age','num_child']]\n",
    "data1 = data1 + np.random.normal(0, 0.1, size = (len(data1),2))\n",
    "data1['contraceptive']=data['contraceptive']\n",
    "sns.scatterplot(x=data1['wife_age'],y=data1['num_child'],data=data1,\n",
    "                hue='contraceptive')\n",
    "plt.title('Number of Children vs. Wife Age')\n",
    "plt.xlabel('Age of Wife')\n",
    "plt.ylabel('Number of Children')\n",
    "plt.legend(bbox_to_anchor=(1.05, 1),fontsize=8, loc='upper left', borderaxespad=0.)"
   ]
  },
  {
   "cell_type": "markdown",
   "metadata": {},
   "source": [
    "The graph above shows that women without children tend to not use any form of birth control. It also shows that as women have more children, a form of contraceptive, whether short-term or long-term, is likely to be used. Another notable takeaway is that as women get older, they tend to use short-term or no contraceptive. This might be due to the fact that as women age, it is less likely for them to be able to have children, erasing the need for a long-term contraceptive."
   ]
  },
  {
   "cell_type": "code",
   "execution_count": 11,
   "metadata": {},
   "outputs": [
    {
     "data": {
      "text/plain": [
       "<matplotlib.legend.Legend at 0x7f111c83f2d0>"
      ]
     },
     "execution_count": 11,
     "metadata": {},
     "output_type": "execute_result"
    },
    {
     "data": {
      "image/png": "[encoded data removed]",
      "text/plain": [
       "<Figure size 432x288 with 1 Axes>"
      ]
     },
     "metadata": {
      "needs_background": "light"
     },
     "output_type": "display_data"
    }
   ],
   "source": [
    "#Standard of Living vs. Husband Education\n",
    "data1 = data[['husband_education','standard_living']]\n",
    "data1 = data1 + np.random.normal(0, 0.1, size = (len(data1),2))\n",
    "data1['contraceptive']=data['contraceptive']\n",
    "sns.scatterplot(x=data1['husband_education'],y=data1['standard_living'],data=data1,\n",
    "                hue='contraceptive')\n",
    "plt.title('Standard of Living vs Husband Education')\n",
    "plt.xlabel('Husband Education')\n",
    "plt.ylabel('Standard of Living')\n",
    "plt.legend(bbox_to_anchor=(1.05, 1),fontsize=8, loc='upper left', borderaxespad=0.)"
   ]
  },
  {
   "cell_type": "markdown",
   "metadata": {},
   "source": [
    "Here we observe that most of the women surveyed had husbands with a relatively high education. In addition, we see that despite the standard of living, if a husband's education is lower, the wife will likely not use any form of contraceptive. The visualization also shows that if the husband's education is either a 3 or 4, the standard of living is likely to be higher as well. "
   ]
  },
  {
   "cell_type": "code",
   "execution_count": 12,
   "metadata": {},
   "outputs": [
    {
     "data": {
      "text/plain": [
       "<matplotlib.legend.Legend at 0x7f111af51fd0>"
      ]
     },
     "execution_count": 12,
     "metadata": {},
     "output_type": "execute_result"
    },
    {
     "data": {
      "image/png": "[encoded data removed]",
      "text/plain": [
       "<Figure size 432x288 with 1 Axes>"
      ]
     },
     "metadata": {
      "needs_background": "light"
     },
     "output_type": "display_data"
    }
   ],
   "source": [
    "#Level of Wife Education vs Level of Husband Education\n",
    "data1 = data[['wife_education','husband_education']]\n",
    "data1 = data1 + np.random.normal(0, 0.1, size = (len(data1),2))\n",
    "data1['contraceptive']=data['contraceptive']\n",
    "sns.scatterplot(x=data1['husband_education'],y=data1['wife_education'],data=data1,\n",
    "                hue='contraceptive')\n",
    "plt.title('Wife Education Level vs. Husband Education Level')\n",
    "plt.xlabel('Husband Education Level')\n",
    "plt.ylabel('Wife Education Level')\n",
    "plt.legend(bbox_to_anchor=(1.05, 1),fontsize=8, loc='upper left', borderaxespad=0.)"
   ]
  },
  {
   "cell_type": "markdown",
   "metadata": {},
   "source": [
    "We see that the lower-right diagonal half is more populated with points than the upper-left diagonal half. This could mean that, in a marriage, the husband's education is more important relative to the wife's education. We also see that contraceptive use is more prevelant as both the husband's and wife's education level increases, with some exceptions."
   ]
  },
  {
   "cell_type": "markdown",
   "metadata": {},
   "source": [
    "# Data Cleaning: Adding New Features\n"
   ]
  },
  {
   "cell_type": "markdown",
   "metadata": {},
   "source": [
    "After studying our data, we were curious to see if adding a variable determining the average household education would play a role in terms of predicting the number of children or the type of contraceptives that would be used. Also, we were aware that the average household education level is essentially linearly dependent to the wife and husband's education, so we made sure to never use them together. "
   ]
  },
  {
   "cell_type": "code",
   "execution_count": 13,
   "metadata": {},
   "outputs": [
    {
     "data": {
      "text/html": [
       "<div>\n",
       "<style scoped>\n",
       "    .dataframe tbody tr th:only-of-type {\n",
       "        vertical-align: middle;\n",
       "    }\n",
       "\n",
       "    .dataframe tbody tr th {\n",
       "        vertical-align: top;\n",
       "    }\n",
       "\n",
       "    .dataframe thead th {\n",
       "        text-align: right;\n",
       "    }\n",
       "</style>\n",
       "<table border=\"1\" class=\"dataframe\">\n",
       "  <thead>\n",
       "    <tr style=\"text-align: right;\">\n",
       "      <th></th>\n",
       "      <th>wife_age</th>\n",
       "      <th>wife_education</th>\n",
       "      <th>husband_education</th>\n",
       "      <th>num_child</th>\n",
       "      <th>wife_religion</th>\n",
       "      <th>wife_work</th>\n",
       "      <th>husband_occupation</th>\n",
       "      <th>standard_living</th>\n",
       "      <th>media_exposure</th>\n",
       "      <th>contraceptive</th>\n",
       "      <th>avg_household_education</th>\n",
       "    </tr>\n",
       "  </thead>\n",
       "  <tbody>\n",
       "    <tr>\n",
       "      <th>0</th>\n",
       "      <td>24</td>\n",
       "      <td>2</td>\n",
       "      <td>3</td>\n",
       "      <td>3</td>\n",
       "      <td>1</td>\n",
       "      <td>1</td>\n",
       "      <td>2</td>\n",
       "      <td>3</td>\n",
       "      <td>0</td>\n",
       "      <td>1</td>\n",
       "      <td>2</td>\n",
       "    </tr>\n",
       "    <tr>\n",
       "      <th>1</th>\n",
       "      <td>45</td>\n",
       "      <td>1</td>\n",
       "      <td>3</td>\n",
       "      <td>10</td>\n",
       "      <td>1</td>\n",
       "      <td>1</td>\n",
       "      <td>3</td>\n",
       "      <td>4</td>\n",
       "      <td>0</td>\n",
       "      <td>1</td>\n",
       "      <td>2</td>\n",
       "    </tr>\n",
       "    <tr>\n",
       "      <th>2</th>\n",
       "      <td>43</td>\n",
       "      <td>2</td>\n",
       "      <td>3</td>\n",
       "      <td>7</td>\n",
       "      <td>1</td>\n",
       "      <td>1</td>\n",
       "      <td>3</td>\n",
       "      <td>4</td>\n",
       "      <td>0</td>\n",
       "      <td>1</td>\n",
       "      <td>2</td>\n",
       "    </tr>\n",
       "    <tr>\n",
       "      <th>3</th>\n",
       "      <td>42</td>\n",
       "      <td>3</td>\n",
       "      <td>2</td>\n",
       "      <td>9</td>\n",
       "      <td>1</td>\n",
       "      <td>1</td>\n",
       "      <td>3</td>\n",
       "      <td>3</td>\n",
       "      <td>0</td>\n",
       "      <td>1</td>\n",
       "      <td>2</td>\n",
       "    </tr>\n",
       "    <tr>\n",
       "      <th>4</th>\n",
       "      <td>36</td>\n",
       "      <td>3</td>\n",
       "      <td>3</td>\n",
       "      <td>8</td>\n",
       "      <td>1</td>\n",
       "      <td>1</td>\n",
       "      <td>3</td>\n",
       "      <td>2</td>\n",
       "      <td>0</td>\n",
       "      <td>1</td>\n",
       "      <td>3</td>\n",
       "    </tr>\n",
       "    <tr>\n",
       "      <th>5</th>\n",
       "      <td>19</td>\n",
       "      <td>4</td>\n",
       "      <td>4</td>\n",
       "      <td>0</td>\n",
       "      <td>1</td>\n",
       "      <td>1</td>\n",
       "      <td>3</td>\n",
       "      <td>3</td>\n",
       "      <td>0</td>\n",
       "      <td>1</td>\n",
       "      <td>4</td>\n",
       "    </tr>\n",
       "  </tbody>\n",
       "</table>\n",
       "</div>"
      ],
      "text/plain": [
       "   wife_age  wife_education  husband_education  num_child  wife_religion  \\\n",
       "0        24               2                  3          3              1   \n",
       "1        45               1                  3         10              1   \n",
       "2        43               2                  3          7              1   \n",
       "3        42               3                  2          9              1   \n",
       "4        36               3                  3          8              1   \n",
       "5        19               4                  4          0              1   \n",
       "\n",
       "   wife_work  husband_occupation  standard_living  media_exposure  \\\n",
       "0          1                   2                3               0   \n",
       "1          1                   3                4               0   \n",
       "2          1                   3                4               0   \n",
       "3          1                   3                3               0   \n",
       "4          1                   3                2               0   \n",
       "5          1                   3                3               0   \n",
       "\n",
       "   contraceptive  avg_household_education  \n",
       "0              1                        2  \n",
       "1              1                        2  \n",
       "2              1                        2  \n",
       "3              1                        2  \n",
       "4              1                        3  \n",
       "5              1                        4  "
      ]
     },
     "execution_count": 13,
     "metadata": {},
     "output_type": "execute_result"
    }
   ],
   "source": [
    "#Adding an average education \n",
    "data['avg_household_education'] = (data['wife_education'] + data[\"husband_education\"])//2\n",
    "data.head(6)"
   ]
  },
  {
   "cell_type": "markdown",
   "metadata": {},
   "source": [
    "# One-Hot Encoding Categorical Variables"
   ]
  },
  {
   "cell_type": "markdown",
   "metadata": {},
   "source": [
    "Below, we've demonstrated how we've one hot encoded all our categorical variables so that we can accurately use them as features while we make our predictions. "
   ]
  },
  {
   "cell_type": "code",
   "execution_count": 14,
   "metadata": {},
   "outputs": [
    {
     "data": {
      "text/html": [
       "<div>\n",
       "<style scoped>\n",
       "    .dataframe tbody tr th:only-of-type {\n",
       "        vertical-align: middle;\n",
       "    }\n",
       "\n",
       "    .dataframe tbody tr th {\n",
       "        vertical-align: top;\n",
       "    }\n",
       "\n",
       "    .dataframe thead th {\n",
       "        text-align: right;\n",
       "    }\n",
       "</style>\n",
       "<table border=\"1\" class=\"dataframe\">\n",
       "  <thead>\n",
       "    <tr style=\"text-align: right;\">\n",
       "      <th></th>\n",
       "      <th>wife_age</th>\n",
       "      <th>num_child</th>\n",
       "      <th>wife_religion</th>\n",
       "      <th>wife_work</th>\n",
       "      <th>media_exposure</th>\n",
       "      <th>wife_edu1</th>\n",
       "      <th>wife_edu2</th>\n",
       "      <th>wife_edu3</th>\n",
       "      <th>wife_edu4</th>\n",
       "      <th>husb_edu1</th>\n",
       "      <th>...</th>\n",
       "      <th>std_live2</th>\n",
       "      <th>std_live3</th>\n",
       "      <th>std_live4</th>\n",
       "      <th>contra_1</th>\n",
       "      <th>contra_2</th>\n",
       "      <th>contra_3</th>\n",
       "      <th>avg_edu1</th>\n",
       "      <th>avg_edu2</th>\n",
       "      <th>avg_edu3</th>\n",
       "      <th>avg_edu4</th>\n",
       "    </tr>\n",
       "  </thead>\n",
       "  <tbody>\n",
       "    <tr>\n",
       "      <th>0</th>\n",
       "      <td>24</td>\n",
       "      <td>3</td>\n",
       "      <td>1</td>\n",
       "      <td>1</td>\n",
       "      <td>0</td>\n",
       "      <td>0.0</td>\n",
       "      <td>1.0</td>\n",
       "      <td>0.0</td>\n",
       "      <td>0.0</td>\n",
       "      <td>0.0</td>\n",
       "      <td>...</td>\n",
       "      <td>0.0</td>\n",
       "      <td>1.0</td>\n",
       "      <td>0.0</td>\n",
       "      <td>1.0</td>\n",
       "      <td>0.0</td>\n",
       "      <td>0.0</td>\n",
       "      <td>0.0</td>\n",
       "      <td>1.0</td>\n",
       "      <td>0.0</td>\n",
       "      <td>0.0</td>\n",
       "    </tr>\n",
       "    <tr>\n",
       "      <th>1</th>\n",
       "      <td>45</td>\n",
       "      <td>10</td>\n",
       "      <td>1</td>\n",
       "      <td>1</td>\n",
       "      <td>0</td>\n",
       "      <td>1.0</td>\n",
       "      <td>0.0</td>\n",
       "      <td>0.0</td>\n",
       "      <td>0.0</td>\n",
       "      <td>0.0</td>\n",
       "      <td>...</td>\n",
       "      <td>0.0</td>\n",
       "      <td>0.0</td>\n",
       "      <td>1.0</td>\n",
       "      <td>1.0</td>\n",
       "      <td>0.0</td>\n",
       "      <td>0.0</td>\n",
       "      <td>0.0</td>\n",
       "      <td>1.0</td>\n",
       "      <td>0.0</td>\n",
       "      <td>0.0</td>\n",
       "    </tr>\n",
       "    <tr>\n",
       "      <th>2</th>\n",
       "      <td>43</td>\n",
       "      <td>7</td>\n",
       "      <td>1</td>\n",
       "      <td>1</td>\n",
       "      <td>0</td>\n",
       "      <td>0.0</td>\n",
       "      <td>1.0</td>\n",
       "      <td>0.0</td>\n",
       "      <td>0.0</td>\n",
       "      <td>0.0</td>\n",
       "      <td>...</td>\n",
       "      <td>0.0</td>\n",
       "      <td>0.0</td>\n",
       "      <td>1.0</td>\n",
       "      <td>1.0</td>\n",
       "      <td>0.0</td>\n",
       "      <td>0.0</td>\n",
       "      <td>0.0</td>\n",
       "      <td>1.0</td>\n",
       "      <td>0.0</td>\n",
       "      <td>0.0</td>\n",
       "    </tr>\n",
       "    <tr>\n",
       "      <th>3</th>\n",
       "      <td>42</td>\n",
       "      <td>9</td>\n",
       "      <td>1</td>\n",
       "      <td>1</td>\n",
       "      <td>0</td>\n",
       "      <td>0.0</td>\n",
       "      <td>0.0</td>\n",
       "      <td>1.0</td>\n",
       "      <td>0.0</td>\n",
       "      <td>0.0</td>\n",
       "      <td>...</td>\n",
       "      <td>0.0</td>\n",
       "      <td>1.0</td>\n",
       "      <td>0.0</td>\n",
       "      <td>1.0</td>\n",
       "      <td>0.0</td>\n",
       "      <td>0.0</td>\n",
       "      <td>0.0</td>\n",
       "      <td>1.0</td>\n",
       "      <td>0.0</td>\n",
       "      <td>0.0</td>\n",
       "    </tr>\n",
       "    <tr>\n",
       "      <th>4</th>\n",
       "      <td>36</td>\n",
       "      <td>8</td>\n",
       "      <td>1</td>\n",
       "      <td>1</td>\n",
       "      <td>0</td>\n",
       "      <td>0.0</td>\n",
       "      <td>0.0</td>\n",
       "      <td>1.0</td>\n",
       "      <td>0.0</td>\n",
       "      <td>0.0</td>\n",
       "      <td>...</td>\n",
       "      <td>1.0</td>\n",
       "      <td>0.0</td>\n",
       "      <td>0.0</td>\n",
       "      <td>1.0</td>\n",
       "      <td>0.0</td>\n",
       "      <td>0.0</td>\n",
       "      <td>0.0</td>\n",
       "      <td>0.0</td>\n",
       "      <td>1.0</td>\n",
       "      <td>0.0</td>\n",
       "    </tr>\n",
       "    <tr>\n",
       "      <th>...</th>\n",
       "      <td>...</td>\n",
       "      <td>...</td>\n",
       "      <td>...</td>\n",
       "      <td>...</td>\n",
       "      <td>...</td>\n",
       "      <td>...</td>\n",
       "      <td>...</td>\n",
       "      <td>...</td>\n",
       "      <td>...</td>\n",
       "      <td>...</td>\n",
       "      <td>...</td>\n",
       "      <td>...</td>\n",
       "      <td>...</td>\n",
       "      <td>...</td>\n",
       "      <td>...</td>\n",
       "      <td>...</td>\n",
       "      <td>...</td>\n",
       "      <td>...</td>\n",
       "      <td>...</td>\n",
       "      <td>...</td>\n",
       "      <td>...</td>\n",
       "    </tr>\n",
       "    <tr>\n",
       "      <th>1468</th>\n",
       "      <td>33</td>\n",
       "      <td>2</td>\n",
       "      <td>1</td>\n",
       "      <td>0</td>\n",
       "      <td>0</td>\n",
       "      <td>0.0</td>\n",
       "      <td>0.0</td>\n",
       "      <td>0.0</td>\n",
       "      <td>1.0</td>\n",
       "      <td>0.0</td>\n",
       "      <td>...</td>\n",
       "      <td>0.0</td>\n",
       "      <td>0.0</td>\n",
       "      <td>1.0</td>\n",
       "      <td>0.0</td>\n",
       "      <td>0.0</td>\n",
       "      <td>1.0</td>\n",
       "      <td>0.0</td>\n",
       "      <td>0.0</td>\n",
       "      <td>0.0</td>\n",
       "      <td>1.0</td>\n",
       "    </tr>\n",
       "    <tr>\n",
       "      <th>1469</th>\n",
       "      <td>33</td>\n",
       "      <td>3</td>\n",
       "      <td>1</td>\n",
       "      <td>1</td>\n",
       "      <td>0</td>\n",
       "      <td>0.0</td>\n",
       "      <td>0.0</td>\n",
       "      <td>0.0</td>\n",
       "      <td>1.0</td>\n",
       "      <td>0.0</td>\n",
       "      <td>...</td>\n",
       "      <td>0.0</td>\n",
       "      <td>0.0</td>\n",
       "      <td>1.0</td>\n",
       "      <td>0.0</td>\n",
       "      <td>0.0</td>\n",
       "      <td>1.0</td>\n",
       "      <td>0.0</td>\n",
       "      <td>0.0</td>\n",
       "      <td>0.0</td>\n",
       "      <td>1.0</td>\n",
       "    </tr>\n",
       "    <tr>\n",
       "      <th>1470</th>\n",
       "      <td>39</td>\n",
       "      <td>8</td>\n",
       "      <td>1</td>\n",
       "      <td>0</td>\n",
       "      <td>0</td>\n",
       "      <td>0.0</td>\n",
       "      <td>0.0</td>\n",
       "      <td>1.0</td>\n",
       "      <td>0.0</td>\n",
       "      <td>0.0</td>\n",
       "      <td>...</td>\n",
       "      <td>0.0</td>\n",
       "      <td>0.0</td>\n",
       "      <td>1.0</td>\n",
       "      <td>0.0</td>\n",
       "      <td>0.0</td>\n",
       "      <td>1.0</td>\n",
       "      <td>0.0</td>\n",
       "      <td>0.0</td>\n",
       "      <td>1.0</td>\n",
       "      <td>0.0</td>\n",
       "    </tr>\n",
       "    <tr>\n",
       "      <th>1471</th>\n",
       "      <td>33</td>\n",
       "      <td>4</td>\n",
       "      <td>1</td>\n",
       "      <td>0</td>\n",
       "      <td>0</td>\n",
       "      <td>0.0</td>\n",
       "      <td>0.0</td>\n",
       "      <td>1.0</td>\n",
       "      <td>0.0</td>\n",
       "      <td>0.0</td>\n",
       "      <td>...</td>\n",
       "      <td>1.0</td>\n",
       "      <td>0.0</td>\n",
       "      <td>0.0</td>\n",
       "      <td>0.0</td>\n",
       "      <td>0.0</td>\n",
       "      <td>1.0</td>\n",
       "      <td>0.0</td>\n",
       "      <td>0.0</td>\n",
       "      <td>1.0</td>\n",
       "      <td>0.0</td>\n",
       "    </tr>\n",
       "    <tr>\n",
       "      <th>1472</th>\n",
       "      <td>17</td>\n",
       "      <td>1</td>\n",
       "      <td>1</td>\n",
       "      <td>1</td>\n",
       "      <td>0</td>\n",
       "      <td>0.0</td>\n",
       "      <td>0.0</td>\n",
       "      <td>1.0</td>\n",
       "      <td>0.0</td>\n",
       "      <td>0.0</td>\n",
       "      <td>...</td>\n",
       "      <td>0.0</td>\n",
       "      <td>0.0</td>\n",
       "      <td>1.0</td>\n",
       "      <td>0.0</td>\n",
       "      <td>0.0</td>\n",
       "      <td>1.0</td>\n",
       "      <td>0.0</td>\n",
       "      <td>0.0</td>\n",
       "      <td>1.0</td>\n",
       "      <td>0.0</td>\n",
       "    </tr>\n",
       "  </tbody>\n",
       "</table>\n",
       "<p>1473 rows × 28 columns</p>\n",
       "</div>"
      ],
      "text/plain": [
       "      wife_age  num_child  wife_religion  wife_work  media_exposure  \\\n",
       "0           24          3              1          1               0   \n",
       "1           45         10              1          1               0   \n",
       "2           43          7              1          1               0   \n",
       "3           42          9              1          1               0   \n",
       "4           36          8              1          1               0   \n",
       "...        ...        ...            ...        ...             ...   \n",
       "1468        33          2              1          0               0   \n",
       "1469        33          3              1          1               0   \n",
       "1470        39          8              1          0               0   \n",
       "1471        33          4              1          0               0   \n",
       "1472        17          1              1          1               0   \n",
       "\n",
       "      wife_edu1  wife_edu2  wife_edu3  wife_edu4  husb_edu1  ...  std_live2  \\\n",
       "0           0.0        1.0        0.0        0.0        0.0  ...        0.0   \n",
       "1           1.0        0.0        0.0        0.0        0.0  ...        0.0   \n",
       "2           0.0        1.0        0.0        0.0        0.0  ...        0.0   \n",
       "3           0.0        0.0        1.0        0.0        0.0  ...        0.0   \n",
       "4           0.0        0.0        1.0        0.0        0.0  ...        1.0   \n",
       "...         ...        ...        ...        ...        ...  ...        ...   \n",
       "1468        0.0        0.0        0.0        1.0        0.0  ...        0.0   \n",
       "1469        0.0        0.0        0.0        1.0        0.0  ...        0.0   \n",
       "1470        0.0        0.0        1.0        0.0        0.0  ...        0.0   \n",
       "1471        0.0        0.0        1.0        0.0        0.0  ...        1.0   \n",
       "1472        0.0        0.0        1.0        0.0        0.0  ...        0.0   \n",
       "\n",
       "      std_live3  std_live4  contra_1  contra_2  contra_3  avg_edu1  avg_edu2  \\\n",
       "0           1.0        0.0       1.0       0.0       0.0       0.0       1.0   \n",
       "1           0.0        1.0       1.0       0.0       0.0       0.0       1.0   \n",
       "2           0.0        1.0       1.0       0.0       0.0       0.0       1.0   \n",
       "3           1.0        0.0       1.0       0.0       0.0       0.0       1.0   \n",
       "4           0.0        0.0       1.0       0.0       0.0       0.0       0.0   \n",
       "...         ...        ...       ...       ...       ...       ...       ...   \n",
       "1468        0.0        1.0       0.0       0.0       1.0       0.0       0.0   \n",
       "1469        0.0        1.0       0.0       0.0       1.0       0.0       0.0   \n",
       "1470        0.0        1.0       0.0       0.0       1.0       0.0       0.0   \n",
       "1471        0.0        0.0       0.0       0.0       1.0       0.0       0.0   \n",
       "1472        0.0        1.0       0.0       0.0       1.0       0.0       0.0   \n",
       "\n",
       "      avg_edu3  avg_edu4  \n",
       "0          0.0       0.0  \n",
       "1          0.0       0.0  \n",
       "2          0.0       0.0  \n",
       "3          0.0       0.0  \n",
       "4          1.0       0.0  \n",
       "...        ...       ...  \n",
       "1468       0.0       1.0  \n",
       "1469       0.0       1.0  \n",
       "1470       1.0       0.0  \n",
       "1471       1.0       0.0  \n",
       "1472       1.0       0.0  \n",
       "\n",
       "[1473 rows x 28 columns]"
      ]
     },
     "execution_count": 14,
     "metadata": {},
     "output_type": "execute_result"
    }
   ],
   "source": [
    "oh_enc = OneHotEncoder()\n",
    "\n",
    "#Fitting the encoder to the columns we want to one hot encode\n",
    "oh_enc.fit(data[['wife_education', 'husband_education','husband_occupation','standard_living','contraceptive', 'avg_household_education']])\n",
    "#Returns a matrix with values of 1s and 0s\n",
    "ohe_data = oh_enc.transform(data[['wife_education', 'husband_education','husband_occupation','standard_living','contraceptive', 'avg_household_education']]).todense()\n",
    "#Create column names\n",
    "columns = ['wife_edu1','wife_edu2','wife_edu3','wife_edu4',\n",
    "           'husb_edu1','husb_edu2','husb_edu3','husb_edu4',\n",
    "           'husb_occ1','husb_occ2','husb_occ3','husb_occ4',\n",
    "           'std_live1','std_live2','std_live3','std_live4',\n",
    "           'contra_1','contra_2','contra_3','avg_edu1','avg_edu2','avg_edu3', 'avg_edu4']\n",
    "#Creating new data frame with just the ohe features\n",
    "ohe = pd.DataFrame(ohe_data,columns=columns)\n",
    "data[['wife_edu1','wife_edu2','wife_edu3','wife_edu4',\n",
    "           'husb_edu1','husb_edu2','husb_edu3','husb_edu4',\n",
    "           'husb_occ1','husb_occ2','husb_occ3','husb_occ4',\n",
    "           'std_live1','std_live2','std_live3','std_live4',\n",
    "           'contra_1','contra_2','contra_3','avg_edu1','avg_edu2','avg_edu3', 'avg_edu4']] = ohe[['wife_edu1','wife_edu2','wife_edu3','wife_edu4',\n",
    "           'husb_edu1','husb_edu2','husb_edu3','husb_edu4',\n",
    "           'husb_occ1','husb_occ2','husb_occ3','husb_occ4',\n",
    "           'std_live1','std_live2','std_live3','std_live4',\n",
    "           'contra_1','contra_2','contra_3','avg_edu1','avg_edu2','avg_edu3', 'avg_edu4']]\n",
    "\n",
    "#We've renamed our data for the linear and logistic models so they are easier to access/manipulate\n",
    "\n",
    "#data_linear includes the one hot encoded version of contraceptive, as our linear models will be \n",
    "#predicting the number of children a wife might have. \n",
    "\n",
    "#data_logistic does not include the one hot encoded version of contraceptive, as our logistic models\n",
    "#will be predicting the type of contraceptive used.\n",
    "data_linear = data.drop(['wife_education',\"husband_education\",\"husband_occupation\",\"standard_living\",\"contraceptive\",\"avg_household_education\"],axis=1)\n",
    "data_logistic = data.drop(['contra_1','contra_2','contra_3','wife_education',\"husband_education\",\"husband_occupation\",\"standard_living\",\"avg_household_education\"],axis =1)\n",
    "data_linear"
   ]
  },
  {
   "cell_type": "markdown",
   "metadata": {},
   "source": [
    "# Creating Models"
   ]
  },
  {
   "cell_type": "markdown",
   "metadata": {},
   "source": [
    "### Linear Model"
   ]
  },
  {
   "cell_type": "markdown",
   "metadata": {},
   "source": [
    "For our linear models, we will try to most accurately predict how many children the women surveyed have. We will use different combinations of the other given features and see which combination has the lowest root mean squared error (rmse). "
   ]
  },
  {
   "cell_type": "code",
   "execution_count": 15,
   "metadata": {},
   "outputs": [],
   "source": [
    "#Splitting the Data into Train and Test \n",
    "y = data_linear['num_child']\n",
    "X = data_linear.drop('num_child', axis=1)\n",
    "x_train_lin, x_test_lin, y_train_lin, y_test_lin = train_test_split(X, y,test_size=0.2, random_state=42)\n"
   ]
  },
  {
   "cell_type": "code",
   "execution_count": 16,
   "metadata": {},
   "outputs": [
    {
     "data": {
      "text/plain": [
       "[1.8494866032667647,\n",
       " 2.024537851322327,\n",
       " 2.349510111989573,\n",
       " 1.9307185606738295,\n",
       " 2.325008231157386,\n",
       " 2.318641325552956,\n",
       " 2.3550257673471235,\n",
       " 2.4031874513130975,\n",
       " 2.3924882999659607,\n",
       " 2.3778392461353697,\n",
       " 2.402703365809919,\n",
       " 1.845595341136863]"
      ]
     },
     "execution_count": 16,
     "metadata": {},
     "output_type": "execute_result"
    }
   ],
   "source": [
    "#Find the root mean squared error\n",
    "def rmse(actual, predicted):\n",
    "    return np.sqrt(np.mean((actual - predicted) ** 2))\n",
    "\n",
    "#A Function which fits a model and returns its rmse score\n",
    "def linear_model(X_data, Y_data):\n",
    "    linear_model = lm.LinearRegression(fit_intercept=True)\n",
    "    linear_model.fit(X_data, Y_data)\n",
    "    Y_fitted = linear_model.predict(X_data)\n",
    "    rmse_error = rmse(Y_data, Y_fitted)\n",
    "    return rmse_error\n",
    "\n",
    "\n",
    "#Training on all features\n",
    "linear1 = linear_model(x_train_lin.drop(['avg_edu1','avg_edu2','avg_edu3','avg_edu4'],axis=1),y_train_lin)\n",
    "#Training on wife age only\n",
    "linear2 = linear_model(pd.DataFrame(x_train_lin['wife_age']),y_train_lin)\n",
    "#Training on Average Education + Standard of Living\n",
    "linear3 = linear_model(x_train_lin[['avg_edu1','avg_edu2','avg_edu3', 'avg_edu4','std_live1','std_live2','std_live3','std_live4']],y_train_lin)\n",
    "#Training on all information about wife \n",
    "linear4 = linear_model(x_train_lin[['wife_edu1','wife_edu2','wife_edu3','wife_edu4',\"wife_work\",\"wife_religion\",'wife_edu1','wife_edu2','wife_edu3','wife_edu4',\"wife_age\"]],y_train_lin)\n",
    "#Training on Average Education, Husband_Occupation, Standard of Living \n",
    "linear5 = linear_model(x_train_lin[['avg_edu1','avg_edu2','avg_edu3', 'avg_edu4','std_live1','std_live2','std_live3','std_live4','husb_occ1','husb_occ2','husb_occ3','husb_occ4']],y_train_lin)\n",
    "#Training on Average Household Education, Standard of Living, Husband Occupation, Wife Work \n",
    "linear6 = linear_model(x_train_lin[['avg_edu1','avg_edu2','avg_edu3','avg_edu4','std_live1','std_live2','std_live3','std_live4',\n",
    "                                         'husb_occ1','husb_occ2','husb_occ3','husb_occ4', 'wife_work']], y_train_lin)\n",
    "#Training on Wife Education, Husband Education \n",
    "linear7 = linear_model(x_train_lin[['wife_edu1','wife_edu2','wife_edu3','wife_edu4', 'husb_edu1','husb_edu2','husb_edu3','husb_edu4']], y_train_lin)\n",
    "#Training on Standard of Living + Media Exposure\n",
    "linear8 = linear_model(x_train_lin[['std_live1','std_live2','std_live3','std_live4', 'media_exposure']], y_train_lin)\n",
    "#Training on Wife's Religion + Contraceptive \n",
    "linear9 = linear_model(x_train_lin[['wife_religion', 'contra_1','contra_2','contra_3']], y_train_lin)\n",
    "#Training on Contraceptive + Media Exposure\n",
    "linear10 = linear_model(x_train_lin[['contra_1','contra_2','contra_3', 'media_exposure']], y_train_lin)\n",
    "#Training on Contraceptive + Standard of Living\n",
    "linear11 = linear_model(x_train_lin[['contra_1','contra_2','contra_3','std_live1','std_live2','std_live3','std_live4']], y_train_lin)\n",
    "#Training on all features with Average Education Level\n",
    "linear12 = linear_model(x_train_lin.drop(['wife_edu1','wife_edu2','wife_edu3','wife_edu4', 'husb_edu1','husb_edu2','husb_edu3','husb_edu4'],axis=1),y_train_lin)\n",
    "\n",
    "linear_rmses = [linear1, linear2, linear3, linear4, linear5, linear6,\n",
    "               linear7, linear8, linear9, linear10, linear11,linear12]\n",
    "linear_rmses\n",
    "\n",
    "#Models with the best RMSE scores are the models with all the features (Model 1 and Model 12)"
   ]
  },
  {
   "cell_type": "markdown",
   "metadata": {},
   "source": [
    "As we can see above, while training our train data, the linear regression model rmse score is lowest when using all the features to predict the number of children a wife might have; however, it is also interesting to see that our linear model performed better with the average household education level, in comparison to the wife and husband's education levels separately.\n",
    "\n",
    "Below, we will comput the average cross validation rmse for each model."
   ]
  },
  {
   "cell_type": "code",
   "execution_count": 17,
   "metadata": {},
   "outputs": [],
   "source": [
    "#compute the average cross validation rmse for each model\n",
    "#the following rmse function is compatible with the cross_val_score function from scikit-learn\n",
    "def rmse_score(model, X, y):\n",
    "    return np.sqrt(np.mean((y - model.predict(X)) ** 2))\n",
    "def linear_model_cv(x_train,y_train):\n",
    "    linear_model = lm.LinearRegression(fit_intercept=True)\n",
    "    linear_model.fit(x_train, y_train)\n",
    "    Y_fitted = linear_model.predict(x_train)\n",
    "    #find the accuracy\n",
    "    score = np.mean(cross_val_score(linear_model, x_train, y_train,scoring=rmse_score, cv = 5))\n",
    "    return score"
   ]
  },
  {
   "cell_type": "code",
   "execution_count": 18,
   "metadata": {},
   "outputs": [
    {
     "name": "stdout",
     "output_type": "stream",
     "text": [
      "The Cross Validation rmse for each model are:\n"
     ]
    },
    {
     "data": {
      "text/plain": [
       "[1.8746697966670012,\n",
       " 2.023528519218715,\n",
       " 2.3572010281972213,\n",
       " 1.9369591169986589,\n",
       " 2.342381379630863,\n",
       " 2.3310582365082526,\n",
       " 2.37096419670981,\n",
       " 2.4103228725598345,\n",
       " 2.3938576815092474,\n",
       " 2.3829039731917914,\n",
       " 2.4138039447545814,\n",
       " 1.8654714718461178]"
      ]
     },
     "execution_count": 18,
     "metadata": {},
     "output_type": "execute_result"
    }
   ],
   "source": [
    "linear_cv1 = linear_model_cv(x_train_lin.drop(['avg_edu1','avg_edu2','avg_edu3','avg_edu4'],axis=1),y_train_lin)\n",
    "linear_cv2 = linear_model_cv(pd.DataFrame(x_train_lin['wife_age']),y_train_lin)\n",
    "linear_cv3 = linear_model_cv(x_train_lin[['avg_edu1','avg_edu2','avg_edu3', 'avg_edu4','std_live1','std_live2','std_live3','std_live4']],y_train_lin)\n",
    "linear_cv4 = linear_model_cv(x_train_lin[['wife_edu1','wife_edu2','wife_edu3','wife_edu4',\"wife_work\",\"wife_religion\",'wife_edu1','wife_edu2','wife_edu3','wife_edu4',\"wife_age\"]],y_train_lin)\n",
    "linear_cv5 = linear_model_cv(x_train_lin[['avg_edu1','avg_edu2','avg_edu3', 'avg_edu4','std_live1','std_live2','std_live3','std_live4','husb_occ1','husb_occ2','husb_occ3','husb_occ4']],y_train_lin)\n",
    "linear_cv6 = linear_model_cv(x_train_lin[['avg_edu1','avg_edu2','avg_edu3','avg_edu4','std_live1','std_live2','std_live3','std_live4',\n",
    "                                         'husb_occ1','husb_occ2','husb_occ3','husb_occ4', 'wife_work']], y_train_lin)\n",
    "linear_cv7 = linear_model_cv(x_train_lin[['wife_edu1','wife_edu2','wife_edu3','wife_edu4', 'husb_edu1','husb_edu2','husb_edu3','husb_edu4']], y_train_lin)\n",
    "linear_cv8 = linear_model_cv(x_train_lin[['std_live1','std_live2','std_live3','std_live4', 'media_exposure']], y_train_lin)\n",
    "linear_cv9 = linear_model_cv(x_train_lin[['wife_religion', 'contra_1','contra_2','contra_3']], y_train_lin)\n",
    "linear_cv10 = linear_model_cv(x_train_lin[['contra_1','contra_2','contra_3', 'media_exposure']], y_train_lin)\n",
    "linear_cv11 = linear_model_cv(x_train_lin[['contra_1','contra_2','contra_3','std_live1','std_live2','std_live3','std_live4']], y_train_lin)\n",
    "linear_cv12 = linear_model_cv(x_train_lin.drop(['wife_edu1','wife_edu2','wife_edu3','wife_edu4', 'husb_edu1','husb_edu2','husb_edu3','husb_edu4'],axis=1),y_train_lin)\n",
    "\n",
    "linear_cv_rmses = [linear_cv1, linear_cv2, linear_cv3, linear_cv4, linear_cv5, linear_cv6,\n",
    "               linear_cv7, linear_cv8, linear_cv9, linear_cv10, linear_cv11,linear_cv12]\n",
    "\n",
    "print('The Cross Validation rmse for each model are:')\n",
    "linear_cv_rmses"
   ]
  },
  {
   "cell_type": "markdown",
   "metadata": {},
   "source": [
    "These validation errors reveal that the model with the lowest rmse is still the linear model that uses all the features, with average education in place of husband and wife education. It is important to note that these rmse's are slightly higher than our trained models. This helps remind us that our model may not work as well on new data versus our trained data. "
   ]
  },
  {
   "cell_type": "markdown",
   "metadata": {},
   "source": [
    "### Logistic Regression Model"
   ]
  },
  {
   "cell_type": "markdown",
   "metadata": {},
   "source": [
    "For our logistic regression models, we will try to most accurately predict what type contraceptive women use given certain combinations of our other given features."
   ]
  },
  {
   "cell_type": "code",
   "execution_count": 19,
   "metadata": {},
   "outputs": [],
   "source": [
    "#Splitting the data into Train and Test\n",
    "X = data_logistic.drop(['contraceptive'],axis=1)\n",
    "y = data_logistic['contraceptive']\n",
    "x_train_log, x_test_log, y_train_log, y_test_log = train_test_split(X, y, test_size=0.20, random_state=42)"
   ]
  },
  {
   "cell_type": "code",
   "execution_count": 20,
   "metadata": {},
   "outputs": [
    {
     "name": "stderr",
     "output_type": "stream",
     "text": [
      "/srv/conda/envs/data100/lib/python3.7/site-packages/sklearn/linear_model/_logistic.py:940: ConvergenceWarning: lbfgs failed to converge (status=1):\n",
      "STOP: TOTAL NO. of ITERATIONS REACHED LIMIT.\n",
      "\n",
      "Increase the number of iterations (max_iter) or scale the data as shown in:\n",
      "    https://scikit-learn.org/stable/modules/preprocessing.html\n",
      "Please also refer to the documentation for alternative solver options:\n",
      "    https://scikit-learn.org/stable/modules/linear_model.html#logistic-regression\n",
      "  extra_warning_msg=_LOGISTIC_SOLVER_CONVERGENCE_MSG)\n",
      "/srv/conda/envs/data100/lib/python3.7/site-packages/sklearn/linear_model/_logistic.py:940: ConvergenceWarning: lbfgs failed to converge (status=1):\n",
      "STOP: TOTAL NO. of ITERATIONS REACHED LIMIT.\n",
      "\n",
      "Increase the number of iterations (max_iter) or scale the data as shown in:\n",
      "    https://scikit-learn.org/stable/modules/preprocessing.html\n",
      "Please also refer to the documentation for alternative solver options:\n",
      "    https://scikit-learn.org/stable/modules/linear_model.html#logistic-regression\n",
      "  extra_warning_msg=_LOGISTIC_SOLVER_CONVERGENCE_MSG)\n",
      "/srv/conda/envs/data100/lib/python3.7/site-packages/sklearn/linear_model/_logistic.py:940: ConvergenceWarning: lbfgs failed to converge (status=1):\n",
      "STOP: TOTAL NO. of ITERATIONS REACHED LIMIT.\n",
      "\n",
      "Increase the number of iterations (max_iter) or scale the data as shown in:\n",
      "    https://scikit-learn.org/stable/modules/preprocessing.html\n",
      "Please also refer to the documentation for alternative solver options:\n",
      "    https://scikit-learn.org/stable/modules/linear_model.html#logistic-regression\n",
      "  extra_warning_msg=_LOGISTIC_SOLVER_CONVERGENCE_MSG)\n"
     ]
    },
    {
     "data": {
      "text/plain": [
       "[0.5127334465195246,\n",
       " 0.44906621392190155,\n",
       " 0.4626485568760611,\n",
       " 0.42699490662139217,\n",
       " 0.41850594227504245,\n",
       " 0.42614601018675724,\n",
       " 0.45585738539898135,\n",
       " 0.4465195246179966,\n",
       " 0.5093378607809848]"
      ]
     },
     "execution_count": 20,
     "metadata": {},
     "output_type": "execute_result"
    }
   ],
   "source": [
    "#A Function which fits a model and returns its Accuracy Score\n",
    "def logistic_regression(x_train,y_train):\n",
    "    model = LogisticRegression()\n",
    "    model.fit(x_train, y_train)\n",
    "    y_fitted = model.predict(x_train)\n",
    "    #find the accuracy\n",
    "    training_accuracy = accuracy_score(y_fitted, y_train)\n",
    "    return training_accuracy\n",
    "\n",
    "#Training on all original feeatures\n",
    "logistic1 = logistic_regression(x_train_log.drop(['avg_edu1','avg_edu2','avg_edu3', 'avg_edu4'],axis=1),y_train_log)\n",
    "#Training on Husband Education, Wife Education, and Standard of Living\n",
    "logistic2 = logistic_regression(x_train_log[['husb_edu1','husb_edu2','husb_edu3','husb_edu4','wife_edu1','wife_edu2','wife_edu3','wife_edu4','std_live1','std_live2','std_live3','std_live4']],y_train_log)\n",
    "#Training on Husband Education, Wife Education, Husband Occupation + Wife Work\n",
    "logistic3 = logistic_regression(x_train_log[['husb_edu1','husb_edu2','husb_edu3','husb_edu4','wife_edu1','wife_edu2','wife_edu3','wife_edu4','husb_occ1','husb_occ2','husb_occ3','husb_occ4','wife_work']],y_train_log)\n",
    "#Training on Number of Children + Standard of Living\n",
    "logistic4 = logistic_regression(x_train_log[['num_child','std_live1','std_live2','std_live3','std_live4']],y_train_log)\n",
    "#Training on Wife Age\n",
    "logistic5 = logistic_regression(x_train_log[['wife_age']],y_train_log)\n",
    "#Training on Wife Religion\n",
    "logistic6 = logistic_regression(x_train_log[['wife_religion']],y_train_log)\n",
    "#Training on Wife Work, Wife Education + Wife Age\n",
    "logistic7 = logistic_regression(x_train_log[['wife_work','wife_edu1','wife_edu2','wife_edu3','wife_edu4','wife_age']],y_train_log)\n",
    "#Training on Husband Occupation, Husband Occupation + Standard of Living\n",
    "logistic8 = logistic_regression(x_train_log[['husb_occ1','husb_occ2','husb_occ3','husb_occ4','husb_edu1','husb_edu2','husb_edu3','husb_edu4','std_live1','std_live2','std_live3','std_live4']],y_train_log)\n",
    "#Husband Education, Wife Education\n",
    "logistic9 = logistic_regression(x_train_log.drop(['husb_edu1','husb_edu2','husb_edu3','husb_edu4','wife_edu1','wife_edu2','wife_edu3','wife_edu4'],axis=1),y_train_log)\n",
    "\n",
    "logistic_accuracy = [logistic1,logistic2,logistic3,logistic4,logistic5,logistic6,logistic7,logistic8,logistic9]\n",
    "logistic_accuracy\n",
    "\n",
    "#Top 2 models with the best training accuracy are the models using all the features (Model 1 and 9)"
   ]
  },
  {
   "cell_type": "markdown",
   "metadata": {},
   "source": [
    "Similar to the linear models, the logistic model that used all of the given features yielded the highest training accuracy; however, the training accuracy for our logistic model trained with average education was slightly lower. Despite our efforts to create a decent model by exploring various combinations of features, each model had a low training accuracy, with our \"best\" accuracy being a mere 51.27%\n",
    "\n",
    "In order to better understand our models, though, we must use cross validation. This way, we can have an idea of what our test accuracy might be. The following cell computes the average validation accuracy for each logistic model created above. "
   ]
  },
  {
   "cell_type": "code",
   "execution_count": 21,
   "metadata": {},
   "outputs": [],
   "source": [
    "#compute average cross validation accuracy for each model\n",
    "def logistic_regression_cv(x_train,y_train):\n",
    "    model = LogisticRegression()\n",
    "    model.fit(x_train, y_train)\n",
    "    y_fitted = model.predict(x_train)\n",
    "    #find the accuracy\n",
    "    score = np.mean(cross_val_score(model, x_train, y_train, cv = 5))\n",
    "    return score"
   ]
  },
  {
   "cell_type": "code",
   "execution_count": 22,
   "metadata": {},
   "outputs": [
    {
     "name": "stderr",
     "output_type": "stream",
     "text": [
      "/srv/conda/envs/data100/lib/python3.7/site-packages/sklearn/linear_model/_logistic.py:940: ConvergenceWarning: lbfgs failed to converge (status=1):\n",
      "STOP: TOTAL NO. of ITERATIONS REACHED LIMIT.\n",
      "\n",
      "Increase the number of iterations (max_iter) or scale the data as shown in:\n",
      "    https://scikit-learn.org/stable/modules/preprocessing.html\n",
      "Please also refer to the documentation for alternative solver options:\n",
      "    https://scikit-learn.org/stable/modules/linear_model.html#logistic-regression\n",
      "  extra_warning_msg=_LOGISTIC_SOLVER_CONVERGENCE_MSG)\n",
      "/srv/conda/envs/data100/lib/python3.7/site-packages/sklearn/linear_model/_logistic.py:940: ConvergenceWarning: lbfgs failed to converge (status=1):\n",
      "STOP: TOTAL NO. of ITERATIONS REACHED LIMIT.\n",
      "\n",
      "Increase the number of iterations (max_iter) or scale the data as shown in:\n",
      "    https://scikit-learn.org/stable/modules/preprocessing.html\n",
      "Please also refer to the documentation for alternative solver options:\n",
      "    https://scikit-learn.org/stable/modules/linear_model.html#logistic-regression\n",
      "  extra_warning_msg=_LOGISTIC_SOLVER_CONVERGENCE_MSG)\n",
      "/srv/conda/envs/data100/lib/python3.7/site-packages/sklearn/linear_model/_logistic.py:940: ConvergenceWarning: lbfgs failed to converge (status=1):\n",
      "STOP: TOTAL NO. of ITERATIONS REACHED LIMIT.\n",
      "\n",
      "Increase the number of iterations (max_iter) or scale the data as shown in:\n",
      "    https://scikit-learn.org/stable/modules/preprocessing.html\n",
      "Please also refer to the documentation for alternative solver options:\n",
      "    https://scikit-learn.org/stable/modules/linear_model.html#logistic-regression\n",
      "  extra_warning_msg=_LOGISTIC_SOLVER_CONVERGENCE_MSG)\n",
      "/srv/conda/envs/data100/lib/python3.7/site-packages/sklearn/linear_model/_logistic.py:940: ConvergenceWarning: lbfgs failed to converge (status=1):\n",
      "STOP: TOTAL NO. of ITERATIONS REACHED LIMIT.\n",
      "\n",
      "Increase the number of iterations (max_iter) or scale the data as shown in:\n",
      "    https://scikit-learn.org/stable/modules/preprocessing.html\n",
      "Please also refer to the documentation for alternative solver options:\n",
      "    https://scikit-learn.org/stable/modules/linear_model.html#logistic-regression\n",
      "  extra_warning_msg=_LOGISTIC_SOLVER_CONVERGENCE_MSG)\n",
      "/srv/conda/envs/data100/lib/python3.7/site-packages/sklearn/linear_model/_logistic.py:940: ConvergenceWarning: lbfgs failed to converge (status=1):\n",
      "STOP: TOTAL NO. of ITERATIONS REACHED LIMIT.\n",
      "\n",
      "Increase the number of iterations (max_iter) or scale the data as shown in:\n",
      "    https://scikit-learn.org/stable/modules/preprocessing.html\n",
      "Please also refer to the documentation for alternative solver options:\n",
      "    https://scikit-learn.org/stable/modules/linear_model.html#logistic-regression\n",
      "  extra_warning_msg=_LOGISTIC_SOLVER_CONVERGENCE_MSG)\n",
      "/srv/conda/envs/data100/lib/python3.7/site-packages/sklearn/linear_model/_logistic.py:940: ConvergenceWarning: lbfgs failed to converge (status=1):\n",
      "STOP: TOTAL NO. of ITERATIONS REACHED LIMIT.\n",
      "\n",
      "Increase the number of iterations (max_iter) or scale the data as shown in:\n",
      "    https://scikit-learn.org/stable/modules/preprocessing.html\n",
      "Please also refer to the documentation for alternative solver options:\n",
      "    https://scikit-learn.org/stable/modules/linear_model.html#logistic-regression\n",
      "  extra_warning_msg=_LOGISTIC_SOLVER_CONVERGENCE_MSG)\n",
      "/srv/conda/envs/data100/lib/python3.7/site-packages/sklearn/linear_model/_logistic.py:940: ConvergenceWarning: lbfgs failed to converge (status=1):\n",
      "STOP: TOTAL NO. of ITERATIONS REACHED LIMIT.\n",
      "\n",
      "Increase the number of iterations (max_iter) or scale the data as shown in:\n",
      "    https://scikit-learn.org/stable/modules/preprocessing.html\n",
      "Please also refer to the documentation for alternative solver options:\n",
      "    https://scikit-learn.org/stable/modules/linear_model.html#logistic-regression\n",
      "  extra_warning_msg=_LOGISTIC_SOLVER_CONVERGENCE_MSG)\n",
      "/srv/conda/envs/data100/lib/python3.7/site-packages/sklearn/linear_model/_logistic.py:940: ConvergenceWarning: lbfgs failed to converge (status=1):\n",
      "STOP: TOTAL NO. of ITERATIONS REACHED LIMIT.\n",
      "\n",
      "Increase the number of iterations (max_iter) or scale the data as shown in:\n",
      "    https://scikit-learn.org/stable/modules/preprocessing.html\n",
      "Please also refer to the documentation for alternative solver options:\n",
      "    https://scikit-learn.org/stable/modules/linear_model.html#logistic-regression\n",
      "  extra_warning_msg=_LOGISTIC_SOLVER_CONVERGENCE_MSG)\n",
      "/srv/conda/envs/data100/lib/python3.7/site-packages/sklearn/linear_model/_logistic.py:940: ConvergenceWarning: lbfgs failed to converge (status=1):\n",
      "STOP: TOTAL NO. of ITERATIONS REACHED LIMIT.\n",
      "\n",
      "Increase the number of iterations (max_iter) or scale the data as shown in:\n",
      "    https://scikit-learn.org/stable/modules/preprocessing.html\n",
      "Please also refer to the documentation for alternative solver options:\n",
      "    https://scikit-learn.org/stable/modules/linear_model.html#logistic-regression\n",
      "  extra_warning_msg=_LOGISTIC_SOLVER_CONVERGENCE_MSG)\n",
      "/srv/conda/envs/data100/lib/python3.7/site-packages/sklearn/linear_model/_logistic.py:940: ConvergenceWarning: lbfgs failed to converge (status=1):\n",
      "STOP: TOTAL NO. of ITERATIONS REACHED LIMIT.\n",
      "\n",
      "Increase the number of iterations (max_iter) or scale the data as shown in:\n",
      "    https://scikit-learn.org/stable/modules/preprocessing.html\n",
      "Please also refer to the documentation for alternative solver options:\n",
      "    https://scikit-learn.org/stable/modules/linear_model.html#logistic-regression\n",
      "  extra_warning_msg=_LOGISTIC_SOLVER_CONVERGENCE_MSG)\n",
      "/srv/conda/envs/data100/lib/python3.7/site-packages/sklearn/linear_model/_logistic.py:940: ConvergenceWarning: lbfgs failed to converge (status=1):\n",
      "STOP: TOTAL NO. of ITERATIONS REACHED LIMIT.\n",
      "\n",
      "Increase the number of iterations (max_iter) or scale the data as shown in:\n",
      "    https://scikit-learn.org/stable/modules/preprocessing.html\n",
      "Please also refer to the documentation for alternative solver options:\n",
      "    https://scikit-learn.org/stable/modules/linear_model.html#logistic-regression\n",
      "  extra_warning_msg=_LOGISTIC_SOLVER_CONVERGENCE_MSG)\n",
      "/srv/conda/envs/data100/lib/python3.7/site-packages/sklearn/linear_model/_logistic.py:940: ConvergenceWarning: lbfgs failed to converge (status=1):\n",
      "STOP: TOTAL NO. of ITERATIONS REACHED LIMIT.\n",
      "\n",
      "Increase the number of iterations (max_iter) or scale the data as shown in:\n",
      "    https://scikit-learn.org/stable/modules/preprocessing.html\n",
      "Please also refer to the documentation for alternative solver options:\n",
      "    https://scikit-learn.org/stable/modules/linear_model.html#logistic-regression\n",
      "  extra_warning_msg=_LOGISTIC_SOLVER_CONVERGENCE_MSG)\n",
      "/srv/conda/envs/data100/lib/python3.7/site-packages/sklearn/linear_model/_logistic.py:940: ConvergenceWarning: lbfgs failed to converge (status=1):\n",
      "STOP: TOTAL NO. of ITERATIONS REACHED LIMIT.\n",
      "\n",
      "Increase the number of iterations (max_iter) or scale the data as shown in:\n",
      "    https://scikit-learn.org/stable/modules/preprocessing.html\n",
      "Please also refer to the documentation for alternative solver options:\n",
      "    https://scikit-learn.org/stable/modules/linear_model.html#logistic-regression\n",
      "  extra_warning_msg=_LOGISTIC_SOLVER_CONVERGENCE_MSG)\n",
      "/srv/conda/envs/data100/lib/python3.7/site-packages/sklearn/linear_model/_logistic.py:940: ConvergenceWarning: lbfgs failed to converge (status=1):\n",
      "STOP: TOTAL NO. of ITERATIONS REACHED LIMIT.\n",
      "\n",
      "Increase the number of iterations (max_iter) or scale the data as shown in:\n",
      "    https://scikit-learn.org/stable/modules/preprocessing.html\n",
      "Please also refer to the documentation for alternative solver options:\n",
      "    https://scikit-learn.org/stable/modules/linear_model.html#logistic-regression\n",
      "  extra_warning_msg=_LOGISTIC_SOLVER_CONVERGENCE_MSG)\n",
      "/srv/conda/envs/data100/lib/python3.7/site-packages/sklearn/linear_model/_logistic.py:940: ConvergenceWarning: lbfgs failed to converge (status=1):\n",
      "STOP: TOTAL NO. of ITERATIONS REACHED LIMIT.\n",
      "\n",
      "Increase the number of iterations (max_iter) or scale the data as shown in:\n",
      "    https://scikit-learn.org/stable/modules/preprocessing.html\n",
      "Please also refer to the documentation for alternative solver options:\n",
      "    https://scikit-learn.org/stable/modules/linear_model.html#logistic-regression\n",
      "  extra_warning_msg=_LOGISTIC_SOLVER_CONVERGENCE_MSG)\n"
     ]
    },
    {
     "name": "stdout",
     "output_type": "stream",
     "text": [
      "The Cross Validation scores for each model are: [0.48983411467724486, 0.431283808150018, 0.44480706815723037, 0.4244031734583483, 0.4185322755138839, 0.41510998918139197, 0.44908763072484675, 0.4252939055174901, 0.5025604038946989]\n"
     ]
    },
    {
     "name": "stderr",
     "output_type": "stream",
     "text": [
      "/srv/conda/envs/data100/lib/python3.7/site-packages/sklearn/linear_model/_logistic.py:940: ConvergenceWarning: lbfgs failed to converge (status=1):\n",
      "STOP: TOTAL NO. of ITERATIONS REACHED LIMIT.\n",
      "\n",
      "Increase the number of iterations (max_iter) or scale the data as shown in:\n",
      "    https://scikit-learn.org/stable/modules/preprocessing.html\n",
      "Please also refer to the documentation for alternative solver options:\n",
      "    https://scikit-learn.org/stable/modules/linear_model.html#logistic-regression\n",
      "  extra_warning_msg=_LOGISTIC_SOLVER_CONVERGENCE_MSG)\n",
      "/srv/conda/envs/data100/lib/python3.7/site-packages/sklearn/linear_model/_logistic.py:940: ConvergenceWarning: lbfgs failed to converge (status=1):\n",
      "STOP: TOTAL NO. of ITERATIONS REACHED LIMIT.\n",
      "\n",
      "Increase the number of iterations (max_iter) or scale the data as shown in:\n",
      "    https://scikit-learn.org/stable/modules/preprocessing.html\n",
      "Please also refer to the documentation for alternative solver options:\n",
      "    https://scikit-learn.org/stable/modules/linear_model.html#logistic-regression\n",
      "  extra_warning_msg=_LOGISTIC_SOLVER_CONVERGENCE_MSG)\n",
      "/srv/conda/envs/data100/lib/python3.7/site-packages/sklearn/linear_model/_logistic.py:940: ConvergenceWarning: lbfgs failed to converge (status=1):\n",
      "STOP: TOTAL NO. of ITERATIONS REACHED LIMIT.\n",
      "\n",
      "Increase the number of iterations (max_iter) or scale the data as shown in:\n",
      "    https://scikit-learn.org/stable/modules/preprocessing.html\n",
      "Please also refer to the documentation for alternative solver options:\n",
      "    https://scikit-learn.org/stable/modules/linear_model.html#logistic-regression\n",
      "  extra_warning_msg=_LOGISTIC_SOLVER_CONVERGENCE_MSG)\n"
     ]
    }
   ],
   "source": [
    "cv1 = logistic_regression_cv(x_train_log.drop(['avg_edu1','avg_edu2','avg_edu3', 'avg_edu4'],axis=1),y_train_log)\n",
    "cv2 = logistic_regression_cv(x_train_log[['husb_edu1','husb_edu2','husb_edu3','husb_edu4','wife_edu1','wife_edu2','wife_edu3','wife_edu4','std_live1','std_live2','std_live3','std_live4']],y_train_log)\n",
    "cv3 = logistic_regression_cv(x_train_log[['husb_edu1','husb_edu2','husb_edu3','husb_edu4','wife_edu1','wife_edu2','wife_edu3','wife_edu4','husb_occ1','husb_occ2','husb_occ3','husb_occ4','wife_work']],y_train_log)\n",
    "cv4 = logistic_regression_cv(x_train_log[['num_child','std_live1','std_live2','std_live3','std_live4']],y_train_log)\n",
    "cv5 = logistic_regression_cv(x_train_log[['wife_age']],y_train_log)\n",
    "cv6 = logistic_regression_cv(x_train_log[['wife_religion']],y_train_log)\n",
    "cv7 = logistic_regression_cv(x_train_log[['wife_work','wife_edu1','wife_edu2','wife_edu3','wife_edu4','wife_age']],y_train_log)\n",
    "cv8 = logistic_regression_cv(x_train_log[['husb_occ1','husb_occ2','husb_occ3','husb_occ4','husb_edu1','husb_edu2','husb_edu3','husb_edu4','std_live1','std_live2','std_live3','std_live4']],y_train_log)\n",
    "cv9 = logistic_regression_cv(x_train_log.drop(['husb_edu1','husb_edu2','husb_edu3','husb_edu4','wife_edu1','wife_edu2','wife_edu3','wife_edu4'],axis=1),y_train_log)\n",
    "\n",
    "cross_validation_accuracy = [cv1, cv2, cv3, cv4, cv5, cv6, cv7, cv8, cv9]\n",
    "\n",
    "print('The Cross Validation scores for each model are:',cross_validation_accuracy)"
   ]
  },
  {
   "cell_type": "markdown",
   "metadata": {},
   "source": [
    "Above, we found the average cross validation accuracy for our logistic models. Here, we see that despite the relatively high training accuracy of the first logistic model (using all features), the model with the highest validation score uses all the features with average education in place of husband and wife education."
   ]
  },
  {
   "cell_type": "markdown",
   "metadata": {},
   "source": [
    "# Regularization"
   ]
  },
  {
   "cell_type": "markdown",
   "metadata": {},
   "source": [
    "### Lasso"
   ]
  },
  {
   "cell_type": "markdown",
   "metadata": {},
   "source": [
    "We will begin with Lasso Regression on the linear model"
   ]
  },
  {
   "cell_type": "code",
   "execution_count": 23,
   "metadata": {},
   "outputs": [],
   "source": [
    "y = data_linear['num_child']\n",
    "X = data_linear.drop('num_child', axis=1)\n",
    "\n",
    "#Centering the Data\n",
    "x_normalized = (X - np.mean(X)) / np.std(X)\n",
    "\n",
    "#Splitting into Train and Test Data\n",
    "x_train_l, x_test_l, y_train_l, y_test_l = train_test_split(x_normalized, y, test_size=0.2, random_state=42)"
   ]
  },
  {
   "cell_type": "code",
   "execution_count": 24,
   "metadata": {},
   "outputs": [
    {
     "data": {
      "text/plain": [
       "[1.8749932354741272,\n",
       " 2.026944267016714,\n",
       " 2.360894235066107,\n",
       " 1.9417854957351117,\n",
       " 2.347748585375696,\n",
       " 2.338012762194068,\n",
       " 2.3607970055075365,\n",
       " 2.40668918788703,\n",
       " 2.39816666377254,\n",
       " 2.383448879754993,\n",
       " 2.406718665733237,\n",
       " 1.8697934397589746]"
      ]
     },
     "execution_count": 24,
     "metadata": {},
     "output_type": "execute_result"
    }
   ],
   "source": [
    "#Computes the RMSE\n",
    "def rmse_score(model, X, y):\n",
    "    return np.sqrt(np.mean((y - model.predict(X)) ** 2))\n",
    "\n",
    "#A Function which fits conducts Lasso Regression and returns the RMSE\n",
    "def lasso_model(x, y):    \n",
    "    alpha_arr = np.linspace(0.1, 1.5,100)\n",
    "    cv_errors = []\n",
    "    model = Pipeline([\n",
    "            (\"transformer\", StandardScaler()),\n",
    "            (\"LinearModel\", Lasso(alpha = alpha_arr, max_iter = 1000000))\n",
    "    ])\n",
    "    for alpha in alpha_arr:\n",
    "        model.set_params(LinearModel__alpha=alpha)\n",
    "\n",
    "        # compute the cross validation error\n",
    "        cv_error = np.mean(cross_val_score(model, x, y, scoring = rmse_score, cv = 5))\n",
    "\n",
    "        cv_errors.append(cv_error)\n",
    "\n",
    "    best_alpha_lasso = alpha_arr[np.argmin(cv_errors)]\n",
    "    lasso_model = Lasso(alpha = best_alpha_lasso)\n",
    "    lasso_model.fit(x,y)\n",
    "    y_fitted = lasso_model.predict(x)\n",
    "    return rmse(y,y_fitted)\n",
    "\n",
    "#Training on all original features\n",
    "lasso1 = lasso_model(x_train_l.drop(['avg_edu1','avg_edu2','avg_edu3', 'avg_edu4'],axis=1),y_train_l)\n",
    "#Training on wife age only\n",
    "lasso2 = lasso_model(pd.DataFrame(x_train_l['wife_age']),y_train_l)\n",
    "#Training on Average Education + Standard of Living\n",
    "lasso3 = lasso_model(x_train_l[['avg_edu1','avg_edu2','avg_edu3', 'avg_edu4','std_live1','std_live2','std_live3','std_live4']],y_train_l)\n",
    "#Training on all information about wife\n",
    "lasso4 = lasso_model(x_train_l[['wife_edu1','wife_edu2','wife_edu3','wife_edu4',\"wife_work\",\"wife_religion\",'wife_edu1','wife_edu2','wife_edu3','wife_edu4',\"wife_age\"]],y_train_l)\n",
    "#Training on Average Education, Husband_Occupation + Standard of Living \n",
    "lasso5 = lasso_model(x_train_l[['avg_edu1','avg_edu2','avg_edu3', 'avg_edu4','std_live1','std_live2','std_live3','std_live4','husb_occ1','husb_occ2','husb_occ3','husb_occ4']],y_train_l)\n",
    "#Training on Average Household Education, Standard of Living, Husband Occupation + Wife Work \n",
    "lasso6 = lasso_model(x_train_l[['avg_edu1','avg_edu2','avg_edu3', 'avg_edu4', 'std_live1','std_live2','std_live3','std_live4',\n",
    "                                         'husb_occ1','husb_occ2','husb_occ3','husb_occ4', 'wife_work']], y_train_l)\n",
    "#Training on Wife Education + Husband Education \n",
    "lasso7 = lasso_model(x_train_l[['wife_edu1','wife_edu2','wife_edu3','wife_edu4', 'husb_edu1','husb_edu2','husb_edu3','husb_edu4']], y_train_l)\n",
    "#Training on Standard of Living + Media Exposure\n",
    "lasso8 = lasso_model(x_train_l[['std_live1','std_live2','std_live3','std_live4', 'media_exposure']], y_train_l)\n",
    "#Training on Religion + Contraceptive\n",
    "lasso9 = lasso_model(x_train_l[['wife_religion', 'contra_1','contra_2','contra_3']], y_train_l)\n",
    "#Training on Contraceptive + Media Exposure\n",
    "lasso10 = lasso_model(x_train_l[['contra_1','contra_2','contra_3', 'media_exposure']], y_train_l)\n",
    "#Training on Contraceptive + Standard of Living\n",
    "lasso11 = lasso_model(x_train_l[['contra_1','contra_2','contra_3','std_live1','std_live2','std_live3','std_live4']], y_train_l)\n",
    "#Training on All Features + Average Household Education\n",
    "lasso12 = lasso_model(x_train_l.drop(['wife_edu1','wife_edu2','wife_edu3','wife_edu4', 'husb_edu1','husb_edu2','husb_edu3','husb_edu4'],axis=1),y_train_l)\n",
    "\n",
    "lasso_rmses = [lasso1, lasso2, lasso3, lasso4, lasso5, lasso6,\n",
    "               lasso7, lasso8, lasso9, lasso10, lasso11,lasso12]\n",
    "lasso_rmses"
   ]
  },
  {
   "cell_type": "markdown",
   "metadata": {},
   "source": [
    "Above we have shown a few different models and there scores when using a Lasso Model. However, we are more interested in using the Lasso Regression model in order to find the best value of alpha so that we can find the best combination of features to use."
   ]
  },
  {
   "cell_type": "markdown",
   "metadata": {},
   "source": [
    "### Using Best Features from Lasso Regression"
   ]
  },
  {
   "cell_type": "code",
   "execution_count": 25,
   "metadata": {
    "scrolled": true
   },
   "outputs": [
    {
     "data": {
      "text/plain": [
       "['wife_age',\n",
       " 'wife_religion',\n",
       " 'wife_work',\n",
       " 'media_exposure',\n",
       " 'wife_edu1',\n",
       " 'wife_edu2',\n",
       " 'wife_edu4',\n",
       " 'husb_edu2',\n",
       " 'husb_edu4',\n",
       " 'husb_occ1',\n",
       " 'husb_occ2',\n",
       " 'husb_occ4',\n",
       " 'std_live1',\n",
       " 'std_live3',\n",
       " 'std_live4',\n",
       " 'contra_1',\n",
       " 'contra_2',\n",
       " 'avg_edu1',\n",
       " 'avg_edu2',\n",
       " 'avg_edu4']"
      ]
     },
     "execution_count": 25,
     "metadata": {},
     "output_type": "execute_result"
    }
   ],
   "source": [
    "#From our lasso regression model, we noticed that with an alpha of 0.01 our best features are the following\n",
    "from sklearn.linear_model import Lasso\n",
    "lasso_test = Lasso(alpha = 0.01)\n",
    "y_fitted = lasso_test.fit(x_train_l, y_train_l)\n",
    "none_zeros = lasso_test.coef_\n",
    "\n",
    "#count number of nonzeros, return features that matter the most\n",
    "best_features_index = []\n",
    "dont_care_index = []\n",
    "for i in np.arange(len(none_zeros)):\n",
    "    if none_zeros[i] != 0:\n",
    "        best_features_index.append(i)\n",
    "    else:\n",
    "        dont_care_index.append(0)\n",
    "\n",
    "best_features_df = x_train_l.iloc[:, best_features_index]\n",
    "best = list(best_features_df.columns)\n",
    "best"
   ]
  },
  {
   "cell_type": "markdown",
   "metadata": {},
   "source": [
    "Now that we know what our best features are, we should retrain our model to only include those features. To keep our covariate matrix linearly independent, we must retrain it with two sets of best features: with 'avg_edu' and without 'avg_edu'."
   ]
  },
  {
   "cell_type": "code",
   "execution_count": 26,
   "metadata": {},
   "outputs": [
    {
     "data": {
      "text/plain": [
       "(1.8501110487138628, 1.845595341136863, 1.8749947931098125, 1.8697930957536788)"
      ]
     },
     "execution_count": 26,
     "metadata": {},
     "output_type": "execute_result"
    }
   ],
   "source": [
    "best1 = ['wife_age', 'wife_religion', 'wife_work', 'media_exposure', 'wife_edu1', 'wife_edu2', 'wife_edu4',\n",
    "         'husb_edu2', 'husb_edu4', 'husb_occ1', 'husb_occ2', 'husb_occ4', 'std_live1', 'std_live3',\n",
    "         'std_live4', 'contra_1', 'contra_2']\n",
    "\n",
    "best2 = ['wife_age', 'wife_religion', 'wife_work', 'media_exposure','husb_occ1', 'husb_occ2', 'husb_occ4', 'std_live1',\n",
    "         'std_live3', 'std_live4', 'contra_1', 'contra_2', 'avg_edu1', 'avg_edu2', 'avg_edu4']\n",
    "##ADDED LATER WITH BEST FEATURES \n",
    "linear_best1 = linear_model(x_train_lin[best1], y_train_lin)\n",
    "linear_best2 = linear_model(x_train_lin[best2], y_train_lin)\n",
    "\n",
    "#UPDATED WITH BEST FEATURES\n",
    "lasso_best1 = lasso_model(best_features_df[best1], y_train_lin)\n",
    "lasso_best2 = lasso_model(best_features_df[best2], y_train_lin)\n",
    "\n",
    "\n",
    "linear_best1, linear_best2, lasso_best1, lasso_best2"
   ]
  },
  {
   "cell_type": "markdown",
   "metadata": {},
   "source": [
    "As we can see, using our best features for both OLS and Lasso have similar accuracies (with OLS being slightly better)-- even after retraining the data on our best features. Let's try L2 Regularization."
   ]
  },
  {
   "cell_type": "markdown",
   "metadata": {},
   "source": [
    "### Ridge"
   ]
  },
  {
   "cell_type": "markdown",
   "metadata": {},
   "source": [
    "Now we will run a Ridge Regression Regularization Model"
   ]
  },
  {
   "cell_type": "code",
   "execution_count": 27,
   "metadata": {},
   "outputs": [],
   "source": [
    "#Splitting into Train and Test Data\n",
    "x_train, x_test, Y_train, Y_test = train_test_split(data_linear.drop('num_child',axis=1), data_linear['num_child'], test_size=0.20, random_state=42)\n",
    "#Centering the features\n",
    "x_train_centered = (x_train-sum(x_train.values)/len(x_train))/np.std(x_train)"
   ]
  },
  {
   "cell_type": "code",
   "execution_count": 28,
   "metadata": {},
   "outputs": [],
   "source": [
    "#Function that conducts the ridge regression using various alpha and returns the best alpha and cross validation error\n",
    "def ridge_regression(x_train,y_train):\n",
    "    alpha_arr = np.linspace(0.02, 0.5, 60)\n",
    "    cv_errors = []\n",
    "    \n",
    "    model = Pipeline([\n",
    "        ('transformer', StandardScaler()),\n",
    "        ('LinearModel',Ridge(alpha_arr))\n",
    "    ])\n",
    "    for alpha in alpha_arr:\n",
    "        model.set_params(LinearModel__alpha = alpha)\n",
    "        \n",
    "        cv_error = np.mean(cross_val_score(model, x_train, y_train, scoring = rmse_score, cv = 5))\n",
    "        cv_errors.append(cv_error)\n",
    "    best_alpha_ridge = alpha_arr[np.argmin(cv_errors)]\n",
    "    print(f\"The best alpha value is {best_alpha_ridge}\"),\n",
    "    print(f\"Cross validation error for the best alpha value is {cv_errors[np.argmin(cv_errors)]}\")"
   ]
  },
  {
   "cell_type": "code",
   "execution_count": 29,
   "metadata": {},
   "outputs": [
    {
     "name": "stdout",
     "output_type": "stream",
     "text": [
      "The best alpha value is 0.5\n",
      "Cross validation error for the best alpha value is 1.88053205501051\n"
     ]
    }
   ],
   "source": [
    "ridge_regression(x_train_centered,Y_train)"
   ]
  },
  {
   "cell_type": "code",
   "execution_count": 30,
   "metadata": {},
   "outputs": [
    {
     "data": {
      "text/plain": [
       "1.8432990775453855"
      ]
     },
     "execution_count": 30,
     "metadata": {},
     "output_type": "execute_result"
    }
   ],
   "source": [
    "#RIDGE MODEL\n",
    "ridge_model = Pipeline([\n",
    "        (\"transformer\", StandardScaler()),\n",
    "        (\"LinearModel\", Ridge(0.5, max_iter = 1000000))\n",
    "])\n",
    "\n",
    "ridge_model.fit(x_train_centered, Y_train)\n",
    "\n",
    "ridge1 = rmse_score(ridge_model, x_train_centered, Y_train)\n",
    "ridge1"
   ]
  },
  {
   "cell_type": "markdown",
   "metadata": {},
   "source": [
    "Above, we decided to create a ridge model using all features including average education, as this was the linear model that had the lowest rmse. The function ridge_regression() finds the best alpha given our features and returns the cross validation error for that alpha value. After, we performed ridge regression using the best alpha and computed the rmse for that model, which which see is very similar to the scores of our previous models."
   ]
  },
  {
   "cell_type": "markdown",
   "metadata": {},
   "source": [
    "### Decision Trees and Random Forest Model"
   ]
  },
  {
   "cell_type": "markdown",
   "metadata": {},
   "source": [
    "Decision Trees/Random Forests work best with categorical data, so we'll use it to predict type of contraceptive (just like in our logistic regression model). First, let's split our data again."
   ]
  },
  {
   "cell_type": "code",
   "execution_count": 31,
   "metadata": {},
   "outputs": [],
   "source": [
    "X = data_logistic.drop(['contraceptive'],axis=1)\n",
    "y = data_logistic['contraceptive']\n",
    "x_train_log, x_test_log, y_train_log, y_test_log = train_test_split(X, y, test_size=0.20, random_state=42)"
   ]
  },
  {
   "cell_type": "markdown",
   "metadata": {},
   "source": [
    "#### Decision Trees"
   ]
  },
  {
   "cell_type": "code",
   "execution_count": 32,
   "metadata": {},
   "outputs": [
    {
     "name": "stdout",
     "output_type": "stream",
     "text": [
      "training accuracy = 0.9584040747028862\n",
      "cross validation = 0.4490948431301839\n",
      "precision = 0.6098\n",
      "recall = 0.5682\n"
     ]
    }
   ],
   "source": [
    "decision_tree_model = tree.DecisionTreeClassifier(random_state=42)\n",
    "decision_tree_model.fit(x_train_log,y_train_log)\n",
    "\n",
    "dt_training_accuracy = decision_tree_model.score(x_train_log,y_train_log)\n",
    "print(f'training accuracy = {dt_training_accuracy}')\n",
    "\n",
    "cv_dt = np.mean(cross_val_score(decision_tree_model, x_train_log, y_train_log, cv = 5))\n",
    "print(f'cross validation = {cv_dt}')\n",
    "\n",
    "cnf_matrix = confusion_matrix(y_test_log, decision_tree_model.predict(x_test_log))\n",
    "tn = cnf_matrix[0,0]\n",
    "fn = cnf_matrix[1,0]\n",
    "tp = cnf_matrix[1,1]\n",
    "fp = cnf_matrix[0,1]\n",
    "\n",
    "precision = tp / (tp+fp)\n",
    "recall = tp / (tp+fn)\n",
    "\n",
    "print(f'precision = {precision:.4f}')\n",
    "print(f'recall = {recall:.4f}')\n",
    "\n"
   ]
  },
  {
   "cell_type": "markdown",
   "metadata": {},
   "source": [
    "#### Random Forest"
   ]
  },
  {
   "cell_type": "code",
   "execution_count": 33,
   "metadata": {
    "scrolled": true
   },
   "outputs": [
    {
     "name": "stdout",
     "output_type": "stream",
     "text": [
      "training accuracy = 0.9516129032258065\n",
      "cross validation = 0.5127226830147855\n",
      "precision = 0.5814\n",
      "recall = 0.5319\n"
     ]
    }
   ],
   "source": [
    "random_forest_model = ensemble.RandomForestClassifier(n_estimators = 20, random_state = 42)\n",
    "random_forest_model.fit(x_train_log, y_train_log)\n",
    "rf_train_accuracy = random_forest_model.score(x_train_log, y_train_log)\n",
    "print(f'training accuracy = {rf_train_accuracy}')\n",
    "\n",
    "\n",
    "cv_rf = np.mean(cross_val_score(random_forest_model, x_train_log, y_train_log, cv = 5))\n",
    "print(f'cross validation = {cv_rf}')\n",
    "\n",
    "cnf_matrix = confusion_matrix(y_test_log, random_forest_model.predict(x_test_log))\n",
    "tn = cnf_matrix[0,0]\n",
    "fn = cnf_matrix[1,0]\n",
    "tp = cnf_matrix[1,1]\n",
    "fp = cnf_matrix[0,1]\n",
    "\n",
    "precision = tp / (tp+fp)\n",
    "recall = tp / (tp+fn)\n",
    "\n",
    "print(f'precision = {precision:.4f}')\n",
    "print(f'recall = {recall:.4f}')"
   ]
  },
  {
   "cell_type": "markdown",
   "metadata": {},
   "source": [
    "Although the numbers aren't quite off, the Decision Tree Model has higher values for all metrics (with the exception of average cross validation score): training accuracy, precision, and recall. Thus, we'll use that as our \"best\" model for predicting type of contraceptive."
   ]
  },
  {
   "cell_type": "code",
   "execution_count": 34,
   "metadata": {},
   "outputs": [
    {
     "name": "stdout",
     "output_type": "stream",
     "text": [
      "Decision Tree test accuracy = 0.5050847457627119\n"
     ]
    }
   ],
   "source": [
    "dt_test_accuracy = decision_tree_model.score(x_test_log,y_test_log)\n",
    "print(f'Decision Tree test accuracy = {dt_test_accuracy}')"
   ]
  },
  {
   "cell_type": "markdown",
   "metadata": {},
   "source": [
    "Given the limited information we have about this data, a test accuracy of above 50% is alright. In order to improve the effectiveness of our models, however, in the future we would like to look into other potential features that may help us understand our data more accurately."
   ]
  },
  {
   "cell_type": "markdown",
   "metadata": {},
   "source": [
    "Below, we have summarized the accuracy and rmse scores of the models we looked at. We chose to include the top 2 models from the logistic and linear models and alone with the scores for the lasso,ridge,and random forest models.We also calculated their appropriate scores on the test data. "
   ]
  },
  {
   "cell_type": "code",
   "execution_count": 35,
   "metadata": {},
   "outputs": [
    {
     "name": "stderr",
     "output_type": "stream",
     "text": [
      "/srv/conda/envs/data100/lib/python3.7/site-packages/sklearn/linear_model/_logistic.py:940: ConvergenceWarning: lbfgs failed to converge (status=1):\n",
      "STOP: TOTAL NO. of ITERATIONS REACHED LIMIT.\n",
      "\n",
      "Increase the number of iterations (max_iter) or scale the data as shown in:\n",
      "    https://scikit-learn.org/stable/modules/preprocessing.html\n",
      "Please also refer to the documentation for alternative solver options:\n",
      "    https://scikit-learn.org/stable/modules/linear_model.html#logistic-regression\n",
      "  extra_warning_msg=_LOGISTIC_SOLVER_CONVERGENCE_MSG)\n",
      "/srv/conda/envs/data100/lib/python3.7/site-packages/sklearn/linear_model/_logistic.py:940: ConvergenceWarning: lbfgs failed to converge (status=1):\n",
      "STOP: TOTAL NO. of ITERATIONS REACHED LIMIT.\n",
      "\n",
      "Increase the number of iterations (max_iter) or scale the data as shown in:\n",
      "    https://scikit-learn.org/stable/modules/preprocessing.html\n",
      "Please also refer to the documentation for alternative solver options:\n",
      "    https://scikit-learn.org/stable/modules/linear_model.html#logistic-regression\n",
      "  extra_warning_msg=_LOGISTIC_SOLVER_CONVERGENCE_MSG)\n"
     ]
    }
   ],
   "source": [
    "linear1_test = linear_model(x_test_lin.drop(['avg_edu1','avg_edu2','avg_edu3','avg_edu4'],axis=1),y_test_lin)\n",
    "linear2_test = linear_model(x_test_lin.drop(['husb_edu1','husb_edu2','husb_edu3','husb_edu4','wife_edu1','wife_edu2','wife_edu3','wife_edu4'],axis=1),y_test_lin)\n",
    "log1_test = logistic_regression(x_test_log.drop(['avg_edu1','avg_edu2','avg_edu3', 'avg_edu4'],axis=1),y_test_log)\n",
    "log2_test = logistic_regression(x_test_log.drop(['husb_edu1','husb_edu2','husb_edu3','husb_edu4','wife_edu1','wife_edu2','wife_edu3','wife_edu4'],axis=1),y_test_log)\n",
    "best_features_df_test = x_test_l.iloc[:, best_features_index]\n",
    "lasso1_test = lasso_model(best_features_df_test[best1], y_test_lin)\n",
    "lasso2_test = lasso_model(best_features_df_test[best2], y_test_lin)\n",
    "\n",
    "x_test_centered = (x_test-sum(x_test.values)/len(x_test))/np.std(x_test)\n",
    "ridge_test = rmse_score(ridge_model, x_test_centered, Y_test)\n",
    "\n",
    "dt_test = decision_tree_model.score(x_test_log,y_test_log)\n",
    "rf_test = random_forest_model.score(x_test_log, y_test_log)"
   ]
  },
  {
   "cell_type": "code",
   "execution_count": 36,
   "metadata": {},
   "outputs": [],
   "source": [
    "#RMSE: Linear, Lasso, Ridge\n",
    "#ACCURACY: Logistic, Random Forest\n",
    "rmse_train = [linear_best1, linear_best2, lasso_best1, lasso_best2,ridge1]\n",
    "rmse_test = [linear1_test, linear2_test, lasso1_test, lasso2_test, ridge_test]\n",
    "accuracy_train = [logistic1, logistic9,dt_training_accuracy,rf_train_accuracy]\n",
    "accuracy_test = [log1_test, log2_test,dt_test, rf_test]\n",
    "labels_rmse = ['Lin Original','Lin w/ Avg. Edu','Lasso Original','Lasso w/ Avg. Edu','Ridge']\n",
    "labels_acc = ['Log Original','Log w/ Avg. Edu','Decision Tree','Random Forest']\n"
   ]
  },
  {
   "cell_type": "code",
   "execution_count": 37,
   "metadata": {},
   "outputs": [
    {
     "data": {
      "text/plain": [
       "<matplotlib.legend.Legend at 0x7f1118558410>"
      ]
     },
     "execution_count": 37,
     "metadata": {},
     "output_type": "execute_result"
    },
    {
     "data": {
      "image/png": "[encoded data removed]",
      "text/plain": [
       "<Figure size 1080x504 with 1 Axes>"
      ]
     },
     "metadata": {
      "needs_background": "light"
     },
     "output_type": "display_data"
    }
   ],
   "source": [
    "#Code For Grouped Bar Plots found online @https://matplotlib.org/3.1.0/gallery/lines_bars_and_markers/barchart.html\n",
    "\n",
    "x = np.arange(len(labels_rmse))  # the label locations\n",
    "width = 0.35  # the width of the bars\n",
    "\n",
    "fig, ax = plt.subplots(figsize=(15,7))\n",
    "\n",
    "rects1 = ax.bar(x - width/2, rmse_train, width, label='Training RMSE',color='lavender')\n",
    "rects2 = ax.bar(x + width/2, rmse_test, width, label='Testing RMSE',color='lightblue')\n",
    "\n",
    "# Add some text for labels, title and custom x-axis tick labels, etc.\n",
    "ax.set_ylabel('RMSE Scores')\n",
    "ax.set_title('RMSE Scores for Best Overall Models')\n",
    "ax.set_xticks(x)\n",
    "ax.set_xticklabels(labels_rmse)\n",
    "ax.legend()\n",
    "ax.legend(bbox_to_anchor=(1.05, 1),fontsize=10, loc='upper left', borderaxespad=0.)"
   ]
  },
  {
   "cell_type": "code",
   "execution_count": 38,
   "metadata": {},
   "outputs": [
    {
     "data": {
      "text/plain": [
       "<matplotlib.legend.Legend at 0x7f11184fda10>"
      ]
     },
     "execution_count": 38,
     "metadata": {},
     "output_type": "execute_result"
    },
    {
     "data": {
      "image/png": "[encoded data removed]",
      "text/plain": [
       "<Figure size 1080x504 with 1 Axes>"
      ]
     },
     "metadata": {
      "needs_background": "light"
     },
     "output_type": "display_data"
    }
   ],
   "source": [
    "#Code For Grouped Bar Plots found online @https://matplotlib.org/3.1.0/gallery/lines_bars_and_markers/barchart.html\n",
    "\n",
    "x = np.arange(len(labels_acc))  # the label locations\n",
    "width = 0.35  # the width of the bars\n",
    "\n",
    "fig, ax = plt.subplots(figsize=(15,7))\n",
    "\n",
    "rects1 = ax.bar(x - width/2, accuracy_train , width, label='Training Accuracy',color='lavender')\n",
    "rects2 = ax.bar(x + width/2, accuracy_test, width, label='Testing Accuracy',color = 'lightblue')\n",
    "\n",
    "# Add some text for labels, title and custom x-axis tick labels, etc.\n",
    "ax.set_ylabel('Accuracy Scores')\n",
    "ax.set_title('Accuracy Scores for Best Overall Models')\n",
    "ax.set_xticks(x)\n",
    "ax.set_xticklabels(labels_acc)\n",
    "ax.legend()\n",
    "ax.legend(bbox_to_anchor=(1.05, 1),fontsize=10, loc='upper left', borderaxespad=0.)"
   ]
  },
  {
   "cell_type": "markdown",
   "metadata": {},
   "source": [
    "### Next Steps"
   ]
  },
  {
   "cell_type": "markdown",
   "metadata": {},
   "source": [
    "Now, we are ready to evaluate our results. Along with this notebook, a pdf of our report is submitted detailing our methods and findings. There, we also discuss ethical implications of our study as well as offer suggestions on how to further explore this topic."
   ]
  },
  {
   "cell_type": "code",
   "execution_count": null,
   "metadata": {},
   "outputs": [],
   "source": []
  }
 ],
 "metadata": {
  "kernelspec": {
   "display_name": "Python 3",
   "language": "python",
   "name": "python3"
  },
  "language_info": {
   "codemirror_mode": {
    "name": "ipython",
    "version": 3
   },
   "file_extension": ".py",
   "mimetype": "text/x-python",
   "name": "python",
   "nbconvert_exporter": "python",
   "pygments_lexer": "ipython3",
   "version": "3.7.6"
  }
 },
 "nbformat": 4,
 "nbformat_minor": 4
}
